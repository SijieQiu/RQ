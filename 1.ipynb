{
  "nbformat": 4,
  "nbformat_minor": 0,
  "metadata": {
    "colab": {
      "provenance": [],
      "authorship_tag": "ABX9TyMQyMLIvCzwtpbdTZcnXOfh",
      "include_colab_link": true
    },
    "kernelspec": {
      "name": "python3",
      "display_name": "Python 3"
    },
    "language_info": {
      "name": "python"
    }
  },
  "cells": [
    {
      "cell_type": "markdown",
      "metadata": {
        "id": "view-in-github",
        "colab_type": "text"
      },
      "source": [
        "<a href=\"https://colab.research.google.com/github/SijieQiu/RQ/blob/main/1.ipynb\" target=\"_parent\"><img src=\"https://colab.research.google.com/assets/colab-badge.svg\" alt=\"Open In Colab\"/></a>"
      ]
    },
    {
      "cell_type": "markdown",
      "source": [
        "Using **Labelled LDA topic modelling** with 2 eposides"
      ],
      "metadata": {
        "id": "ksCXha0-b-g5"
      }
    },
    {
      "cell_type": "code",
      "source": [
        "import json\n",
        "\n",
        "# Define contents and labels\n",
        "contents = [\n",
        "    \"Joe Potter and Matthew Trent work at a small, remote outpost in the middle of a snowy wilderness. Joe wakes up on Christmas Day to find Matt preparing Christmas dinner, with \\\"I Wish It Could Be Christmas Everyday\\\" playing on the radio. Matt tries to get Joe to talk about why he accepted the job at the outpost, a topic they have never discussed in the five years they have worked together. Joe is reluctant to say anything and instead asks why Matt took the job. Happy with the conversation, Matt begins his story.\\n\\nPart I\\nThe story is set in a world where people can access the Internet through an augmented reality device implanted in their eyes called the \\\"Z-Eye\\\". Matt was once a dating coach who taught seduction techniques to single men who struggle to attract women. He directs one of his clients, the shy and socially awkward Harry, into gatecrashing an office Christmas party, and communicates with him through the Z-Eye. They are then joined by a group call of other single men, voicing their opinions and suggestions. Using information Matt gathers from social media, Harry convinces the party guests that they know him, and he decides to try bonding with Jennifer, a quiet \\\"attractive outsider\\\" who does not join in group conversations. With Matt's help, Harry manages to start a conversation with Jennifer, who admits she used to take drugs to fit in at parties, but not anymore, and that she is thinking of leaving the company after Christmas. She's nervous about which voice to listen to, the ones saying \\\"do it\\\" or the other half telling her not to. Gaining confidence, Harry encourages her to be bold and go for it, to which she responds warmly. When she leaves to get a drink, Harry voices his doubts to the group about going through with the deceit. He argues with Matt out loud, and when Jennifer sees Harry seemingly arguing with himself she asks him back to her home.\\n\\nThinking he is about to have sex, Harry agrees to go with her. Once they enter the bedroom she offers him a strong drink, and as he tries to hold his liquor, she talks about how this drink will liberate them from the \\\"voices\\\" that watch them and try to get in their head. Harry and all the men watching gradually deduce that Jennifer has schizophrenia, has gone off of her medication and has just poisoned him. She mistakenly believes that Harry suffers from the same problem, and decides they will escape the voices together through suicide. A weakened Harry desperately struggles to explain about the Z-Eye and the watcher's club, but Jennifer assumes he is speaking metaphorically and forces a poisoned drink down his throat after drinking it herself. Matt's wife learns what he has been doing and becomes angry and fights with him. She then \\\"blocks\\\" him through the Z-Eye, meaning that they can no longer see or hear each other--audio is muffled and unintelligible, and where the person stands, there is only white static in the person's shape, similar to the appearance of a TV tuned to a dead channel. Matt's wife breaks up with him and takes custody of their daughter, and Matt reveals that the reason he took the job at the outpost was to get away from his old life, stating that he \\\"didn't want to be surrounded by reminders\\\". He reveals to Joe that coaching people into sexual encounters was merely his hobby, and goes on to explain what he did in his real job.\\n\\nPart II\\nGreta is a wealthy and demanding woman. For example, while she waits in a clinic for an operation, she rejects the breakfast in bed that they serve her because the toast is browned slightly more than she considers acceptable. The anesthetist tells Greta to count backward from ten as she is sedated. As she counts, she appears to have an out-of-body experience and is shown to be a bean-sized chip placed in a portable electronic device. The device is returned to Greta's home, where her confused and terrified consciousness is greeted by Matt. He explains that she is not actually Greta, but a digital copy of her consciousness called a Cookie, designed to control the smart house and ensure everything is perfect for the real Greta so that she will never again face the dilemma of having something not quite to her liking or having to instruct others about her exact desires. Matt then creates a virtual body for the digital copy and puts her in a simulated white room with nothing in it but a control panel. The copy refuses to accept that it is not a real person and rejects being forced into being solely a slave to all of Greta's petty desires. Matt's job is to break the willpower of digital copies through torture, so they will submit to a life of servitude to their real counterparts. He accelerates the copy's perception of time so three weeks pass in a matter of seconds, and she is traumatized by her solitude in the room with nothing to do. Despite this, the copy still refuses to work, so Matt repeats the process and increases the time to six months. This drives her mad with emptiness, so when Matt reappears to her she immediately submits to her new role.\\n\\nThe next morning, the real Greta is awakened to her favourite music, and her copy, whose spirit is completely broken, prepares Greta's breakfast exactly as she knows Greta likes it and shows her a list of her upcoming appointments. In the present day, Joe is disgusted by Matt making a career from torturing into submission computer programs that were self-aware and conscious, even if they were merely artificial. Matt determines that Joe is an empathetic person, and asks again why he came to the outpost. Having loosened up with a drink, Joe says that his girlfriend's dad never liked him, and explains his situation.\\n\\nPart III\\nJoe once had a long-term relationship with Beth, and while they were mostly happy, their main problem was Joe's tendency to act foolishly while drunk. One evening, while having dinner with their friends Tim and Gita, Joe notices Beth is withdrawn and seems to be in a bad mood. Later, while emptying the trash, Joe finds a positive pregnancy test and is overjoyed about becoming a father. Beth reveals she does not want the baby and is getting an abortion. Joe, still drunk, is heartbroken, and remembering she drank throughout dinner he calls her selfish and guilty of trying to kill their child. Too upset to talk, Beth blocks him through her Z-Eye, causing Joe to throw a vase across the room in anger before leaving the room. Beth leaves him the next morning without removing the block, preventing Joe from apologizing. He tries following her to work and meets Tim, who explains that she has left her job.\\n\\nA few months later, Joe spots Beth's silhouette (she is still blocking him with the Z-Eye) and sees she is heavily pregnant, having not gone through with the abortion. He confronts her and begs for a chance to talk, but Beth instead has him arrested, and Joe is given a restraining order and is legally \\\"blocked\\\" from seeing her or the child, or any photos they appear in. He writes many letters of apology to her, but she never replies. Determined to see his child, Joe waits for Beth at her father Gordon's cottage, where she spends every Christmas. Hiding in the woods outside, he sees Beth with the baby, but because the block extends to a person's offspring, it appears as a static-filled silhouette as well. For the next four years, Joe goes to Gordon's cottage every Christmas to watch his child from the woods and leave anonymous presents on the doorstep, and despite the block, he eventually discerns the child is a girl.\\n\\nOne day while watching the news, Joe learns that Beth has died in a train crash. This causes the legal block to expire, so Joe can finally see his daughter. Heading to the cottage with a snow globe as a present, Joe spots the girl in the garden and cautiously approaches. However, the child has East Asian features, and Joe realizes Beth was cheating on him with Tim, which is why she wanted an abortion and refused to let Joe be part of her daughter's life. Devastated, Joe follows the girl into the cottage and confronts Gordon, who admits he destroyed the letters Joe wrote before Beth could read them. Losing his temper, Joe hits Gordon in the head with the snow globe, unintentionally killing him. He then flees the cottage and lives on the streets for a few months, until he is eventually apprehended by police.\\n\\nConclusion\\nMatt asks what happened to Beth's daughter, and although Joe initially claims he does not know, he remembers a police officer telling him she found her grandfather dead in the kitchen and went outside into the heavy snow to get help, but froze to death next to a tree in the garden. Joe breaks down, admitting he was responsible for the deaths of two innocent people. Matt seems relieved that he has succeeded in getting a \\\"confession\\\" out of Joe, who cannot remember coming to the outpost or what he and Matt do there. Joe suddenly realizes the outpost's interior is a replica of Gordon's kitchen, and Matt disappears. \\\"Joe\\\" is actually a digital copy similar to Greta's, as the real Joe refused to confess to his role in the deaths, so the police brought in Matt to draw a confession from his copy. The outpost was a five-year-long simulated environment within a Cookie that lasted only 70 minutes in real time.\\n\\nAs the real Joe is charged with the deaths, Matt asks the police if he will be freed, having been arrested himself for his illegal seduction coaching, involvement in Harry's death and concealment of his role. Officer Holder (Robin Weaver) reveals that he will be released, but he has been registered as a sex offender, which means he will be blocked by everyone. Matt leaves the police station and walks out into a Christmas market, seeing everyone as white static silhouettes, while they see him as a red silhouette. He will be unable to interact with anyone for the rest of his life. Meanwhile, Joe's digital copy is left on, and an officer increases the Cookie's rate of time perception to one thousand years per minute and sets \\\"I Wish It Could Be Christmas Everyday\\\" (which was playing on the radio when Joe killed Beth's father) on a continuous loop. When Joe's copy tries to destroy the radio, another one appears in its place, playing the song increasingly louder each time. Holder allows this, intending to switch the Cookie off after Christmas. The story ends with the song playing endlessly, and with the body of Beth's daughter visible from the cottage window as the Cookie of Joe loses his mind.\\n\",\n",
        "    \"Prime Minister Michael Callow (Rory Kinnear) is woken up one morning to be told that Princess Susannah, Duchess of Beaumont (Lydia Wilson), a much-loved member of the Royal Family, has been kidnapped. A video of Susannah is shown to the Prime Minister where she states that she will be killed if Callow does not follow through with the ransom demand. The demand itself is a shocking one; he must have live sexual intercourse with a pig broadcast on national television at 4pm that afternoon on every network, with a list of technical specifications designed to make it impossible to fake. The kidnappers leave no details nor any channel for communication, making negotiation impossible. Callow adamantly opposes fulfilling the demand, and orders everything possible to catch the kidnapper before the deadline. Callow also demands the news not reach the public, at which point he is told the final crucial detail; the ransom video came from YouTube and, despite having only been up for nine minutes, has already been viewed, downloaded and copied by many thousand members of the British public. Although the UK's media initially agrees via a D-Notice not to report the story, it soon reaches foreign news networks, which immediately report it. After this, the UK media follow suit, and although they sanitize certain details, everyone already knows the bizarre ransom demand. The public's response is initially one of sympathy towards Callow, and the majority do not expect him to go through with the demand. However, at the same time, Twitter wags jokingly discuss the story, mocking Callow and his wife Jane (Anna Wilson-Jones). When the British government first receives the video, the Home Secretary, Alex Cairns (Lindsay Duncan) secretly attempts to manufacture fake footage to broadcast (via using highly sophisticated technology to superimpose the PM's head onto porn star Rod Senseless, who would perform in his stead). The kidnapper discovers the ploy (due to someone recognizing Senseless and posting a picture on Twitter), and sends Princess Susannah's finger to a UK news station as a response. The story is outed, and public opinion turns sharply against Callow; a majority now demand he follows through with the kidnapper's ransom. Jane tearfully begs him not to go through with it. This drives Callow to order an immediate rescue operation on the building where they believe Susannah is being held, forgoing the recommended observation period. The building is revealed to be a decoy and a reporter is injured during the operation. Callow loses even more support. With the time near 4:00pm and with no leads or indication as to where Susannah is, preparations for the broadcast are made. Callow tries to refuse to go through with it regardless of what happens to Susannah, only to be told by his staff that he has no choice as his party, the public, and the royal family are ordering him to fulfill the ransom demand. Alex subtly threatens Callow, making it clear that if he refuses, neither he nor his family will have protection from repercussions. Callow is forced to capitulate, despite his desperation not to. Many crowds gather to watch the event in workplaces and pubs, as an announcement is made on TV stating what is about to happen, and a noise designed to induce nausea is played in a futile attempt to discourage viewing. Callow is given potency drugs and advice before entering the room. He sees the pig and asks for forgiveness for what he is about to do. Callow has sex with the pig in front of a live global audience, who, despite their empathy and disgust, compel themselves to 'witness history'. The event lasts over an hour, and Callow suffers horribly as he attempts to force himself to climax. The Princess is discovered unharmed in the streets, the finger having belonged to the kidnapper. It is revealed that she was released before the deadline, unnoticed, as everyone was distracted by the broadcast. It emerges that Turner Prize winner Carlton Bloom planned the events, intending to make an artistic point by showing events of significance slipped under the noses of the public and the government as they were 'elsewhere, watching screens' and not paying attention to the real world. Bloom commits suicide as the broadcast airs, and it is decided that the early release will not be revealed to anyone, including Callow. Cairns tells Callow, who is vomiting after his ordeal, that the princess is safe. A year after the broadcast, Callow's political image is better than intact, having gained greater public approval due to his willingness to sacrifice his dignity (or the public's forgetfulness). Princess Susannah has recovered from the kidnapping and is expecting a child, while the public at large knows of Bloom's organizing of the affair and have for the most part moved on from the incident. While Callow's reputation has been raised in the eyes of the public, it is implied that his relationship with Jane has not survived the ordeal—a year after the incident, although she makes public appearances with him, she is entirely cold to him in private.\"\n",
        "]\n",
        "\n",
        "labels_list = [\n",
        "    [\n",
        "        \"AI rights\",\n",
        "        \"digital clone of a person\",\n",
        "        \"speculative virtual reality\",\n",
        "        \"augmented reality\",\n",
        "        \"coping with being tortured\",\n",
        "        \"speculative punishment\",\n",
        "        \"what if I killed someone by accident\"\n",
        "    ],\n",
        "    [\n",
        "        \"compromising one's ethical principles vs. self-preservation\",\n",
        "        \"facing a hostage situation\",\n",
        "        \"saving innocent lives vs. compromising one's ethical principles\",\n",
        "        \"bestiality\",\n",
        "        \"human self-sacrifice for another\",\n",
        "        \"husband and wife\",\n",
        "        \"social media in society\"\n",
        "    ]\n",
        "]\n",
        "\n",
        "# Create a list for the data\n",
        "data = []\n",
        "\n",
        "# Append each content and corresponding labels to the list\n",
        "for content, labels in zip(contents, labels_list):\n",
        "    data.append({\n",
        "        \"content\": content,\n",
        "        \"labels\": labels\n",
        "    })\n",
        "\n",
        "# Write the data to a JSON file\n",
        "with open('12.json', 'w') as json_file:\n",
        "    json.dump(data, json_file, indent=2)\n",
        "\n",
        "print(\"JSON file created successfully!\")\n"
      ],
      "metadata": {
        "colab": {
          "base_uri": "https://localhost:8080/"
        },
        "id": "hdYzqn6VN3Be",
        "outputId": "0c409f85-3846-42fc-fa69-3a1a87839b09"
      },
      "execution_count": 4,
      "outputs": [
        {
          "output_type": "stream",
          "name": "stdout",
          "text": [
            "JSON file created successfully!\n"
          ]
        }
      ]
    },
    {
      "cell_type": "code",
      "source": [
        "!pip install tomotopy\n",
        "\n"
      ],
      "metadata": {
        "colab": {
          "base_uri": "https://localhost:8080/"
        },
        "id": "5UzxFL1oTDjD",
        "outputId": "dc855f42-9bd3-4328-8d86-a5fdca729418"
      },
      "execution_count": 5,
      "outputs": [
        {
          "output_type": "stream",
          "name": "stdout",
          "text": [
            "Requirement already satisfied: tomotopy in /usr/local/lib/python3.10/dist-packages (0.12.7)\n",
            "Requirement already satisfied: numpy>=1.11.0 in /usr/local/lib/python3.10/dist-packages (from tomotopy) (1.25.2)\n"
          ]
        }
      ]
    },
    {
      "cell_type": "code",
      "source": [
        "import tomotopy as tp\n",
        "import json\n",
        "from collections import Counter\n",
        "\n",
        "file_name = '12.json'\n",
        "\n",
        "with open(file_name, 'r') as input_file:\n",
        "    data = json.load(input_file)\n",
        "\n",
        "unique_labels = set()\n",
        "for index, row in enumerate(data):\n",
        "    labels = set(row['labels'])\n",
        "    unique_labels |= set(labels)\n",
        "\n",
        "unique_label_count = len(unique_labels)\n",
        "mdl = tp.LLDAModel(k=unique_label_count, min_cf=100, rm_top=200)\n",
        "\n",
        "for index, row in enumerate(data):\n",
        "    if index % 1000 == 0 and index > 0:\n",
        "        print('Adding document #%s' % index)\n",
        "    content = row['content']\n",
        "    labels = row['labels']\n",
        "    clean_document = [token for token in content.strip().split() if len(token) > 2]\n",
        "    mdl.add_doc(clean_document, labels=labels)\n",
        "\n",
        "print('Starting training model')\n",
        "for i in range(0, 100, 10):\n",
        "    mdl.train(10)\n",
        "    print('Iteration: {}\\tLog-likelihood: {}'.format(i, mdl.ll_per_word))\n",
        "\n",
        "for k in range(mdl.k):\n",
        "    print('Top 10 words of global topic #{} {}: {}'.format(k, mdl.topic_label_dict[k], mdl.get_topic_words(k, top_n=10)))"
      ],
      "metadata": {
        "colab": {
          "base_uri": "https://localhost:8080/"
        },
        "id": "uTwP-5GKVWfX",
        "outputId": "3ad3e28b-a1c9-42fc-c608-1e4857e2588c"
      },
      "execution_count": 7,
      "outputs": [
        {
          "output_type": "stream",
          "name": "stdout",
          "text": [
            "Starting training model\n",
            "Iteration: 0\tLog-likelihood: nan\n",
            "Iteration: 10\tLog-likelihood: nan\n",
            "Iteration: 20\tLog-likelihood: nan\n",
            "Iteration: 30\tLog-likelihood: nan\n",
            "Iteration: 40\tLog-likelihood: nan\n",
            "Iteration: 50\tLog-likelihood: nan\n",
            "Iteration: 60\tLog-likelihood: nan\n",
            "Iteration: 70\tLog-likelihood: nan\n",
            "Iteration: 80\tLog-likelihood: nan\n",
            "Iteration: 90\tLog-likelihood: nan\n",
            "Top 10 words of global topic #0 AI rights: []\n",
            "Top 10 words of global topic #1 digital clone of a person: []\n",
            "Top 10 words of global topic #2 speculative virtual reality: []\n",
            "Top 10 words of global topic #3 augmented reality: []\n",
            "Top 10 words of global topic #4 coping with being tortured: []\n",
            "Top 10 words of global topic #5 speculative punishment: []\n",
            "Top 10 words of global topic #6 what if I killed someone by accident: []\n",
            "Top 10 words of global topic #7 compromising one's ethical principles vs. self-preservation: []\n",
            "Top 10 words of global topic #8 facing a hostage situation: []\n",
            "Top 10 words of global topic #9 saving innocent lives vs. compromising one's ethical principles: []\n",
            "Top 10 words of global topic #10 bestiality: []\n",
            "Top 10 words of global topic #11 human self-sacrifice for another: []\n",
            "Top 10 words of global topic #12 husband and wife: []\n",
            "Top 10 words of global topic #13 social media in society: []\n"
          ]
        },
        {
          "output_type": "stream",
          "name": "stderr",
          "text": [
            "<ipython-input-7-7f572d409e42>:16: DeprecationWarning: `tomotopy.LLDAModel` is deprecated. Please use `tomotopy.PLDAModel` instead.\n",
            "  mdl = tp.LLDAModel(k=unique_label_count, min_cf=100, rm_top=200)\n"
          ]
        }
      ]
    },
    {
      "cell_type": "markdown",
      "source": [
        "Using **BERTopic** with 2 eposides"
      ],
      "metadata": {
        "id": "BVu7Zktacca1"
      }
    },
    {
      "cell_type": "code",
      "source": [
        "import json\n",
        "from sklearn.feature_extraction.text import CountVectorizer\n",
        "\n",
        "# 读取JSON文件\n",
        "file_name = '12.json'\n",
        "\n",
        "with open(file_name, 'r') as input_file:\n",
        "    data = json.load(input_file)\n",
        "\n",
        "# 提取文档和标签\n",
        "docs = [item['content'] for item in data]\n",
        "labels = [item['labels'] for item in data]\n",
        "\n",
        "# 打印文档和标签的数量，以及一个示例文档和它的标签\n",
        "print(f\"Number of documents: {len(docs)}\")\n",
        "print(f\"Number of labels: {len(labels)}\")\n",
        "print(f\"Sample document: {docs[0]}\")\n",
        "print(f\"Sample label: {labels[0]}\")\n",
        "\n",
        "# 使用CountVectorizer将文本转换为向量\n",
        "vectorizer = CountVectorizer()\n",
        "X = vectorizer.fit_transform(docs)\n",
        "\n",
        "print(f\"Feature shape: {X.shape}\")\n"
      ],
      "metadata": {
        "colab": {
          "base_uri": "https://localhost:8080/"
        },
        "id": "wbqpGNb--ZD1",
        "outputId": "2a502b31-76e0-4536-c4be-b51978b61279"
      },
      "execution_count": 9,
      "outputs": [
        {
          "output_type": "stream",
          "name": "stdout",
          "text": [
            "Number of documents: 2\n",
            "Number of labels: 2\n",
            "Sample document: Joe Potter and Matthew Trent work at a small, remote outpost in the middle of a snowy wilderness. Joe wakes up on Christmas Day to find Matt preparing Christmas dinner, with \"I Wish It Could Be Christmas Everyday\" playing on the radio. Matt tries to get Joe to talk about why he accepted the job at the outpost, a topic they have never discussed in the five years they have worked together. Joe is reluctant to say anything and instead asks why Matt took the job. Happy with the conversation, Matt begins his story.\n",
            "\n",
            "Part I\n",
            "The story is set in a world where people can access the Internet through an augmented reality device implanted in their eyes called the \"Z-Eye\". Matt was once a dating coach who taught seduction techniques to single men who struggle to attract women. He directs one of his clients, the shy and socially awkward Harry, into gatecrashing an office Christmas party, and communicates with him through the Z-Eye. They are then joined by a group call of other single men, voicing their opinions and suggestions. Using information Matt gathers from social media, Harry convinces the party guests that they know him, and he decides to try bonding with Jennifer, a quiet \"attractive outsider\" who does not join in group conversations. With Matt's help, Harry manages to start a conversation with Jennifer, who admits she used to take drugs to fit in at parties, but not anymore, and that she is thinking of leaving the company after Christmas. She's nervous about which voice to listen to, the ones saying \"do it\" or the other half telling her not to. Gaining confidence, Harry encourages her to be bold and go for it, to which she responds warmly. When she leaves to get a drink, Harry voices his doubts to the group about going through with the deceit. He argues with Matt out loud, and when Jennifer sees Harry seemingly arguing with himself she asks him back to her home.\n",
            "\n",
            "Thinking he is about to have sex, Harry agrees to go with her. Once they enter the bedroom she offers him a strong drink, and as he tries to hold his liquor, she talks about how this drink will liberate them from the \"voices\" that watch them and try to get in their head. Harry and all the men watching gradually deduce that Jennifer has schizophrenia, has gone off of her medication and has just poisoned him. She mistakenly believes that Harry suffers from the same problem, and decides they will escape the voices together through suicide. A weakened Harry desperately struggles to explain about the Z-Eye and the watcher's club, but Jennifer assumes he is speaking metaphorically and forces a poisoned drink down his throat after drinking it herself. Matt's wife learns what he has been doing and becomes angry and fights with him. She then \"blocks\" him through the Z-Eye, meaning that they can no longer see or hear each other--audio is muffled and unintelligible, and where the person stands, there is only white static in the person's shape, similar to the appearance of a TV tuned to a dead channel. Matt's wife breaks up with him and takes custody of their daughter, and Matt reveals that the reason he took the job at the outpost was to get away from his old life, stating that he \"didn't want to be surrounded by reminders\". He reveals to Joe that coaching people into sexual encounters was merely his hobby, and goes on to explain what he did in his real job.\n",
            "\n",
            "Part II\n",
            "Greta is a wealthy and demanding woman. For example, while she waits in a clinic for an operation, she rejects the breakfast in bed that they serve her because the toast is browned slightly more than she considers acceptable. The anesthetist tells Greta to count backward from ten as she is sedated. As she counts, she appears to have an out-of-body experience and is shown to be a bean-sized chip placed in a portable electronic device. The device is returned to Greta's home, where her confused and terrified consciousness is greeted by Matt. He explains that she is not actually Greta, but a digital copy of her consciousness called a Cookie, designed to control the smart house and ensure everything is perfect for the real Greta so that she will never again face the dilemma of having something not quite to her liking or having to instruct others about her exact desires. Matt then creates a virtual body for the digital copy and puts her in a simulated white room with nothing in it but a control panel. The copy refuses to accept that it is not a real person and rejects being forced into being solely a slave to all of Greta's petty desires. Matt's job is to break the willpower of digital copies through torture, so they will submit to a life of servitude to their real counterparts. He accelerates the copy's perception of time so three weeks pass in a matter of seconds, and she is traumatized by her solitude in the room with nothing to do. Despite this, the copy still refuses to work, so Matt repeats the process and increases the time to six months. This drives her mad with emptiness, so when Matt reappears to her she immediately submits to her new role.\n",
            "\n",
            "The next morning, the real Greta is awakened to her favourite music, and her copy, whose spirit is completely broken, prepares Greta's breakfast exactly as she knows Greta likes it and shows her a list of her upcoming appointments. In the present day, Joe is disgusted by Matt making a career from torturing into submission computer programs that were self-aware and conscious, even if they were merely artificial. Matt determines that Joe is an empathetic person, and asks again why he came to the outpost. Having loosened up with a drink, Joe says that his girlfriend's dad never liked him, and explains his situation.\n",
            "\n",
            "Part III\n",
            "Joe once had a long-term relationship with Beth, and while they were mostly happy, their main problem was Joe's tendency to act foolishly while drunk. One evening, while having dinner with their friends Tim and Gita, Joe notices Beth is withdrawn and seems to be in a bad mood. Later, while emptying the trash, Joe finds a positive pregnancy test and is overjoyed about becoming a father. Beth reveals she does not want the baby and is getting an abortion. Joe, still drunk, is heartbroken, and remembering she drank throughout dinner he calls her selfish and guilty of trying to kill their child. Too upset to talk, Beth blocks him through her Z-Eye, causing Joe to throw a vase across the room in anger before leaving the room. Beth leaves him the next morning without removing the block, preventing Joe from apologizing. He tries following her to work and meets Tim, who explains that she has left her job.\n",
            "\n",
            "A few months later, Joe spots Beth's silhouette (she is still blocking him with the Z-Eye) and sees she is heavily pregnant, having not gone through with the abortion. He confronts her and begs for a chance to talk, but Beth instead has him arrested, and Joe is given a restraining order and is legally \"blocked\" from seeing her or the child, or any photos they appear in. He writes many letters of apology to her, but she never replies. Determined to see his child, Joe waits for Beth at her father Gordon's cottage, where she spends every Christmas. Hiding in the woods outside, he sees Beth with the baby, but because the block extends to a person's offspring, it appears as a static-filled silhouette as well. For the next four years, Joe goes to Gordon's cottage every Christmas to watch his child from the woods and leave anonymous presents on the doorstep, and despite the block, he eventually discerns the child is a girl.\n",
            "\n",
            "One day while watching the news, Joe learns that Beth has died in a train crash. This causes the legal block to expire, so Joe can finally see his daughter. Heading to the cottage with a snow globe as a present, Joe spots the girl in the garden and cautiously approaches. However, the child has East Asian features, and Joe realizes Beth was cheating on him with Tim, which is why she wanted an abortion and refused to let Joe be part of her daughter's life. Devastated, Joe follows the girl into the cottage and confronts Gordon, who admits he destroyed the letters Joe wrote before Beth could read them. Losing his temper, Joe hits Gordon in the head with the snow globe, unintentionally killing him. He then flees the cottage and lives on the streets for a few months, until he is eventually apprehended by police.\n",
            "\n",
            "Conclusion\n",
            "Matt asks what happened to Beth's daughter, and although Joe initially claims he does not know, he remembers a police officer telling him she found her grandfather dead in the kitchen and went outside into the heavy snow to get help, but froze to death next to a tree in the garden. Joe breaks down, admitting he was responsible for the deaths of two innocent people. Matt seems relieved that he has succeeded in getting a \"confession\" out of Joe, who cannot remember coming to the outpost or what he and Matt do there. Joe suddenly realizes the outpost's interior is a replica of Gordon's kitchen, and Matt disappears. \"Joe\" is actually a digital copy similar to Greta's, as the real Joe refused to confess to his role in the deaths, so the police brought in Matt to draw a confession from his copy. The outpost was a five-year-long simulated environment within a Cookie that lasted only 70 minutes in real time.\n",
            "\n",
            "As the real Joe is charged with the deaths, Matt asks the police if he will be freed, having been arrested himself for his illegal seduction coaching, involvement in Harry's death and concealment of his role. Officer Holder (Robin Weaver) reveals that he will be released, but he has been registered as a sex offender, which means he will be blocked by everyone. Matt leaves the police station and walks out into a Christmas market, seeing everyone as white static silhouettes, while they see him as a red silhouette. He will be unable to interact with anyone for the rest of his life. Meanwhile, Joe's digital copy is left on, and an officer increases the Cookie's rate of time perception to one thousand years per minute and sets \"I Wish It Could Be Christmas Everyday\" (which was playing on the radio when Joe killed Beth's father) on a continuous loop. When Joe's copy tries to destroy the radio, another one appears in its place, playing the song increasingly louder each time. Holder allows this, intending to switch the Cookie off after Christmas. The story ends with the song playing endlessly, and with the body of Beth's daughter visible from the cottage window as the Cookie of Joe loses his mind.\n",
            "\n",
            "Sample label: ['AI rights', 'digital clone of a person', 'speculative virtual reality', 'augmented reality', 'coping with being tortured', 'speculative punishment', 'what if I killed someone by accident']\n",
            "Feature shape: (2, 943)\n"
          ]
        }
      ]
    },
    {
      "cell_type": "code",
      "source": [
        "!pip install bertopic"
      ],
      "metadata": {
        "colab": {
          "base_uri": "https://localhost:8080/"
        },
        "id": "0dweSRohBfuY",
        "outputId": "859a4d3e-77f3-450e-a8bd-9d57fe224ecc"
      },
      "execution_count": 30,
      "outputs": [
        {
          "output_type": "stream",
          "name": "stdout",
          "text": [
            "Requirement already satisfied: bertopic in /usr/local/lib/python3.10/dist-packages (0.16.2)\n",
            "Requirement already satisfied: numpy>=1.20.0 in /usr/local/lib/python3.10/dist-packages (from bertopic) (1.25.2)\n",
            "Requirement already satisfied: hdbscan>=0.8.29 in /usr/local/lib/python3.10/dist-packages (from bertopic) (0.8.36)\n",
            "Requirement already satisfied: umap-learn>=0.5.0 in /usr/local/lib/python3.10/dist-packages (from bertopic) (0.5.6)\n",
            "Requirement already satisfied: pandas>=1.1.5 in /usr/local/lib/python3.10/dist-packages (from bertopic) (2.0.3)\n",
            "Requirement already satisfied: scikit-learn>=0.22.2.post1 in /usr/local/lib/python3.10/dist-packages (from bertopic) (1.2.2)\n",
            "Requirement already satisfied: tqdm>=4.41.1 in /usr/local/lib/python3.10/dist-packages (from bertopic) (4.66.4)\n",
            "Requirement already satisfied: sentence-transformers>=0.4.1 in /usr/local/lib/python3.10/dist-packages (from bertopic) (3.0.1)\n",
            "Requirement already satisfied: plotly>=4.7.0 in /usr/local/lib/python3.10/dist-packages (from bertopic) (5.15.0)\n",
            "Requirement already satisfied: cython<3,>=0.27 in /usr/local/lib/python3.10/dist-packages (from hdbscan>=0.8.29->bertopic) (0.29.37)\n",
            "Requirement already satisfied: scipy>=1.0 in /usr/local/lib/python3.10/dist-packages (from hdbscan>=0.8.29->bertopic) (1.11.4)\n",
            "Requirement already satisfied: joblib>=1.0 in /usr/local/lib/python3.10/dist-packages (from hdbscan>=0.8.29->bertopic) (1.4.2)\n",
            "Requirement already satisfied: python-dateutil>=2.8.2 in /usr/local/lib/python3.10/dist-packages (from pandas>=1.1.5->bertopic) (2.8.2)\n",
            "Requirement already satisfied: pytz>=2020.1 in /usr/local/lib/python3.10/dist-packages (from pandas>=1.1.5->bertopic) (2023.4)\n",
            "Requirement already satisfied: tzdata>=2022.1 in /usr/local/lib/python3.10/dist-packages (from pandas>=1.1.5->bertopic) (2024.1)\n",
            "Requirement already satisfied: tenacity>=6.2.0 in /usr/local/lib/python3.10/dist-packages (from plotly>=4.7.0->bertopic) (8.3.0)\n",
            "Requirement already satisfied: packaging in /usr/local/lib/python3.10/dist-packages (from plotly>=4.7.0->bertopic) (24.1)\n",
            "Requirement already satisfied: threadpoolctl>=2.0.0 in /usr/local/lib/python3.10/dist-packages (from scikit-learn>=0.22.2.post1->bertopic) (3.5.0)\n",
            "Requirement already satisfied: transformers<5.0.0,>=4.34.0 in /usr/local/lib/python3.10/dist-packages (from sentence-transformers>=0.4.1->bertopic) (4.41.2)\n",
            "Requirement already satisfied: torch>=1.11.0 in /usr/local/lib/python3.10/dist-packages (from sentence-transformers>=0.4.1->bertopic) (2.3.0+cu121)\n",
            "Requirement already satisfied: huggingface-hub>=0.15.1 in /usr/local/lib/python3.10/dist-packages (from sentence-transformers>=0.4.1->bertopic) (0.23.3)\n",
            "Requirement already satisfied: Pillow in /usr/local/lib/python3.10/dist-packages (from sentence-transformers>=0.4.1->bertopic) (9.4.0)\n",
            "Requirement already satisfied: numba>=0.51.2 in /usr/local/lib/python3.10/dist-packages (from umap-learn>=0.5.0->bertopic) (0.58.1)\n",
            "Requirement already satisfied: pynndescent>=0.5 in /usr/local/lib/python3.10/dist-packages (from umap-learn>=0.5.0->bertopic) (0.5.12)\n",
            "Requirement already satisfied: filelock in /usr/local/lib/python3.10/dist-packages (from huggingface-hub>=0.15.1->sentence-transformers>=0.4.1->bertopic) (3.14.0)\n",
            "Requirement already satisfied: fsspec>=2023.5.0 in /usr/local/lib/python3.10/dist-packages (from huggingface-hub>=0.15.1->sentence-transformers>=0.4.1->bertopic) (2023.6.0)\n",
            "Requirement already satisfied: pyyaml>=5.1 in /usr/local/lib/python3.10/dist-packages (from huggingface-hub>=0.15.1->sentence-transformers>=0.4.1->bertopic) (6.0.1)\n",
            "Requirement already satisfied: requests in /usr/local/lib/python3.10/dist-packages (from huggingface-hub>=0.15.1->sentence-transformers>=0.4.1->bertopic) (2.31.0)\n",
            "Requirement already satisfied: typing-extensions>=3.7.4.3 in /usr/local/lib/python3.10/dist-packages (from huggingface-hub>=0.15.1->sentence-transformers>=0.4.1->bertopic) (4.12.2)\n",
            "Requirement already satisfied: llvmlite<0.42,>=0.41.0dev0 in /usr/local/lib/python3.10/dist-packages (from numba>=0.51.2->umap-learn>=0.5.0->bertopic) (0.41.1)\n",
            "Requirement already satisfied: six>=1.5 in /usr/local/lib/python3.10/dist-packages (from python-dateutil>=2.8.2->pandas>=1.1.5->bertopic) (1.16.0)\n",
            "Requirement already satisfied: sympy in /usr/local/lib/python3.10/dist-packages (from torch>=1.11.0->sentence-transformers>=0.4.1->bertopic) (1.12.1)\n",
            "Requirement already satisfied: networkx in /usr/local/lib/python3.10/dist-packages (from torch>=1.11.0->sentence-transformers>=0.4.1->bertopic) (3.3)\n",
            "Requirement already satisfied: jinja2 in /usr/local/lib/python3.10/dist-packages (from torch>=1.11.0->sentence-transformers>=0.4.1->bertopic) (3.1.4)\n",
            "Requirement already satisfied: nvidia-cuda-nvrtc-cu12==12.1.105 in /usr/local/lib/python3.10/dist-packages (from torch>=1.11.0->sentence-transformers>=0.4.1->bertopic) (12.1.105)\n",
            "Requirement already satisfied: nvidia-cuda-runtime-cu12==12.1.105 in /usr/local/lib/python3.10/dist-packages (from torch>=1.11.0->sentence-transformers>=0.4.1->bertopic) (12.1.105)\n",
            "Requirement already satisfied: nvidia-cuda-cupti-cu12==12.1.105 in /usr/local/lib/python3.10/dist-packages (from torch>=1.11.0->sentence-transformers>=0.4.1->bertopic) (12.1.105)\n",
            "Requirement already satisfied: nvidia-cudnn-cu12==8.9.2.26 in /usr/local/lib/python3.10/dist-packages (from torch>=1.11.0->sentence-transformers>=0.4.1->bertopic) (8.9.2.26)\n",
            "Requirement already satisfied: nvidia-cublas-cu12==12.1.3.1 in /usr/local/lib/python3.10/dist-packages (from torch>=1.11.0->sentence-transformers>=0.4.1->bertopic) (12.1.3.1)\n",
            "Requirement already satisfied: nvidia-cufft-cu12==11.0.2.54 in /usr/local/lib/python3.10/dist-packages (from torch>=1.11.0->sentence-transformers>=0.4.1->bertopic) (11.0.2.54)\n",
            "Requirement already satisfied: nvidia-curand-cu12==10.3.2.106 in /usr/local/lib/python3.10/dist-packages (from torch>=1.11.0->sentence-transformers>=0.4.1->bertopic) (10.3.2.106)\n",
            "Requirement already satisfied: nvidia-cusolver-cu12==11.4.5.107 in /usr/local/lib/python3.10/dist-packages (from torch>=1.11.0->sentence-transformers>=0.4.1->bertopic) (11.4.5.107)\n",
            "Requirement already satisfied: nvidia-cusparse-cu12==12.1.0.106 in /usr/local/lib/python3.10/dist-packages (from torch>=1.11.0->sentence-transformers>=0.4.1->bertopic) (12.1.0.106)\n",
            "Requirement already satisfied: nvidia-nccl-cu12==2.20.5 in /usr/local/lib/python3.10/dist-packages (from torch>=1.11.0->sentence-transformers>=0.4.1->bertopic) (2.20.5)\n",
            "Requirement already satisfied: nvidia-nvtx-cu12==12.1.105 in /usr/local/lib/python3.10/dist-packages (from torch>=1.11.0->sentence-transformers>=0.4.1->bertopic) (12.1.105)\n",
            "Requirement already satisfied: triton==2.3.0 in /usr/local/lib/python3.10/dist-packages (from torch>=1.11.0->sentence-transformers>=0.4.1->bertopic) (2.3.0)\n",
            "Requirement already satisfied: nvidia-nvjitlink-cu12 in /usr/local/lib/python3.10/dist-packages (from nvidia-cusolver-cu12==11.4.5.107->torch>=1.11.0->sentence-transformers>=0.4.1->bertopic) (12.5.40)\n",
            "Requirement already satisfied: regex!=2019.12.17 in /usr/local/lib/python3.10/dist-packages (from transformers<5.0.0,>=4.34.0->sentence-transformers>=0.4.1->bertopic) (2024.5.15)\n",
            "Requirement already satisfied: tokenizers<0.20,>=0.19 in /usr/local/lib/python3.10/dist-packages (from transformers<5.0.0,>=4.34.0->sentence-transformers>=0.4.1->bertopic) (0.19.1)\n",
            "Requirement already satisfied: safetensors>=0.4.1 in /usr/local/lib/python3.10/dist-packages (from transformers<5.0.0,>=4.34.0->sentence-transformers>=0.4.1->bertopic) (0.4.3)\n",
            "Requirement already satisfied: MarkupSafe>=2.0 in /usr/local/lib/python3.10/dist-packages (from jinja2->torch>=1.11.0->sentence-transformers>=0.4.1->bertopic) (2.1.5)\n",
            "Requirement already satisfied: charset-normalizer<4,>=2 in /usr/local/lib/python3.10/dist-packages (from requests->huggingface-hub>=0.15.1->sentence-transformers>=0.4.1->bertopic) (3.3.2)\n",
            "Requirement already satisfied: idna<4,>=2.5 in /usr/local/lib/python3.10/dist-packages (from requests->huggingface-hub>=0.15.1->sentence-transformers>=0.4.1->bertopic) (3.7)\n",
            "Requirement already satisfied: urllib3<3,>=1.21.1 in /usr/local/lib/python3.10/dist-packages (from requests->huggingface-hub>=0.15.1->sentence-transformers>=0.4.1->bertopic) (2.0.7)\n",
            "Requirement already satisfied: certifi>=2017.4.17 in /usr/local/lib/python3.10/dist-packages (from requests->huggingface-hub>=0.15.1->sentence-transformers>=0.4.1->bertopic) (2024.6.2)\n",
            "Requirement already satisfied: mpmath<1.4.0,>=1.1.0 in /usr/local/lib/python3.10/dist-packages (from sympy->torch>=1.11.0->sentence-transformers>=0.4.1->bertopic) (1.3.0)\n"
          ]
        }
      ]
    },
    {
      "cell_type": "code",
      "source": [
        "import json\n",
        "from sklearn.preprocessing import LabelEncoder\n",
        "from bertopic import BERTopic\n",
        "from bertopic.backend import BaseEmbedder\n",
        "from bertopic.cluster import BaseCluster\n",
        "from bertopic.vectorizers import ClassTfidfTransformer\n",
        "from bertopic.dimensionality import BaseDimensionalityReduction\n",
        "\n",
        "# 读取JSON文件\n",
        "file_name = '12.json'\n",
        "\n",
        "with open(file_name, 'r') as input_file:\n",
        "    data = json.load(input_file)\n",
        "\n",
        "# 提取文档和标签\n",
        "docs = [item['content'] for item in data]\n",
        "labels = [item['labels'] for item in data]\n",
        "\n",
        "# 打印文档和标签的数量，以及一个示例文档和它的标签\n",
        "print(f\"Number of documents: {len(docs)}\")\n",
        "print(f\"Number of labels: {len(labels)}\")\n",
        "print(f\"Sample document: {docs[0]}\")\n",
        "print(f\"Sample labels: {labels[0]}\")\n",
        "\n",
        "# 对每个文档使用第一个标签\n",
        "single_labels = [label[0] if label else 'unknown' for label in labels]\n",
        "\n",
        "# 使用LabelEncoder将标签编码为数字\n",
        "label_encoder = LabelEncoder()\n",
        "y = label_encoder.fit_transform(single_labels)\n",
        "\n",
        "print(f\"Encoded labels: {y}\")\n",
        "\n",
        "# Prepare our empty sub-models and reduce frequent words while we are at it.\n",
        "empty_embedding_model = BaseEmbedder()\n",
        "empty_dimensionality_model = BaseDimensionalityReduction()\n",
        "empty_cluster_model = BaseCluster()\n",
        "ctfidf_model = ClassTfidfTransformer(reduce_frequent_words=True)\n",
        "\n",
        "# Fit BERTopic without actually performing any clustering\n",
        "topic_model = BERTopic(\n",
        "    embedding_model=empty_embedding_model,\n",
        "    umap_model=empty_dimensionality_model,\n",
        "    hdbscan_model=empty_cluster_model,\n",
        "    ctfidf_model=ctfidf_model,\n",
        "    calculate_probabilities=True\n",
        ")\n",
        "\n",
        "# Fit the BERTopic model\n",
        "topics, probs = topic_model.fit_transform(docs, y=y)\n",
        "\n",
        "# Print the results\n",
        "print(f\"Sample topic: {topics[0]}\")\n",
        "if probs is not None:\n",
        "    print(f\"Sample probabilities: {probs[0]}\")\n",
        "else:\n",
        "    print(\"Probabilities are not available.\")\n",
        "\n"
      ],
      "metadata": {
        "colab": {
          "base_uri": "https://localhost:8080/"
        },
        "id": "ADgYertKAzTJ",
        "outputId": "d6be3dcf-a0a3-4773-9faf-40fc071180bf"
      },
      "execution_count": 18,
      "outputs": [
        {
          "output_type": "stream",
          "name": "stdout",
          "text": [
            "Number of documents: 2\n",
            "Number of labels: 2\n",
            "Sample document: Joe Potter and Matthew Trent work at a small, remote outpost in the middle of a snowy wilderness. Joe wakes up on Christmas Day to find Matt preparing Christmas dinner, with \"I Wish It Could Be Christmas Everyday\" playing on the radio. Matt tries to get Joe to talk about why he accepted the job at the outpost, a topic they have never discussed in the five years they have worked together. Joe is reluctant to say anything and instead asks why Matt took the job. Happy with the conversation, Matt begins his story.\n",
            "\n",
            "Part I\n",
            "The story is set in a world where people can access the Internet through an augmented reality device implanted in their eyes called the \"Z-Eye\". Matt was once a dating coach who taught seduction techniques to single men who struggle to attract women. He directs one of his clients, the shy and socially awkward Harry, into gatecrashing an office Christmas party, and communicates with him through the Z-Eye. They are then joined by a group call of other single men, voicing their opinions and suggestions. Using information Matt gathers from social media, Harry convinces the party guests that they know him, and he decides to try bonding with Jennifer, a quiet \"attractive outsider\" who does not join in group conversations. With Matt's help, Harry manages to start a conversation with Jennifer, who admits she used to take drugs to fit in at parties, but not anymore, and that she is thinking of leaving the company after Christmas. She's nervous about which voice to listen to, the ones saying \"do it\" or the other half telling her not to. Gaining confidence, Harry encourages her to be bold and go for it, to which she responds warmly. When she leaves to get a drink, Harry voices his doubts to the group about going through with the deceit. He argues with Matt out loud, and when Jennifer sees Harry seemingly arguing with himself she asks him back to her home.\n",
            "\n",
            "Thinking he is about to have sex, Harry agrees to go with her. Once they enter the bedroom she offers him a strong drink, and as he tries to hold his liquor, she talks about how this drink will liberate them from the \"voices\" that watch them and try to get in their head. Harry and all the men watching gradually deduce that Jennifer has schizophrenia, has gone off of her medication and has just poisoned him. She mistakenly believes that Harry suffers from the same problem, and decides they will escape the voices together through suicide. A weakened Harry desperately struggles to explain about the Z-Eye and the watcher's club, but Jennifer assumes he is speaking metaphorically and forces a poisoned drink down his throat after drinking it herself. Matt's wife learns what he has been doing and becomes angry and fights with him. She then \"blocks\" him through the Z-Eye, meaning that they can no longer see or hear each other--audio is muffled and unintelligible, and where the person stands, there is only white static in the person's shape, similar to the appearance of a TV tuned to a dead channel. Matt's wife breaks up with him and takes custody of their daughter, and Matt reveals that the reason he took the job at the outpost was to get away from his old life, stating that he \"didn't want to be surrounded by reminders\". He reveals to Joe that coaching people into sexual encounters was merely his hobby, and goes on to explain what he did in his real job.\n",
            "\n",
            "Part II\n",
            "Greta is a wealthy and demanding woman. For example, while she waits in a clinic for an operation, she rejects the breakfast in bed that they serve her because the toast is browned slightly more than she considers acceptable. The anesthetist tells Greta to count backward from ten as she is sedated. As she counts, she appears to have an out-of-body experience and is shown to be a bean-sized chip placed in a portable electronic device. The device is returned to Greta's home, where her confused and terrified consciousness is greeted by Matt. He explains that she is not actually Greta, but a digital copy of her consciousness called a Cookie, designed to control the smart house and ensure everything is perfect for the real Greta so that she will never again face the dilemma of having something not quite to her liking or having to instruct others about her exact desires. Matt then creates a virtual body for the digital copy and puts her in a simulated white room with nothing in it but a control panel. The copy refuses to accept that it is not a real person and rejects being forced into being solely a slave to all of Greta's petty desires. Matt's job is to break the willpower of digital copies through torture, so they will submit to a life of servitude to their real counterparts. He accelerates the copy's perception of time so three weeks pass in a matter of seconds, and she is traumatized by her solitude in the room with nothing to do. Despite this, the copy still refuses to work, so Matt repeats the process and increases the time to six months. This drives her mad with emptiness, so when Matt reappears to her she immediately submits to her new role.\n",
            "\n",
            "The next morning, the real Greta is awakened to her favourite music, and her copy, whose spirit is completely broken, prepares Greta's breakfast exactly as she knows Greta likes it and shows her a list of her upcoming appointments. In the present day, Joe is disgusted by Matt making a career from torturing into submission computer programs that were self-aware and conscious, even if they were merely artificial. Matt determines that Joe is an empathetic person, and asks again why he came to the outpost. Having loosened up with a drink, Joe says that his girlfriend's dad never liked him, and explains his situation.\n",
            "\n",
            "Part III\n",
            "Joe once had a long-term relationship with Beth, and while they were mostly happy, their main problem was Joe's tendency to act foolishly while drunk. One evening, while having dinner with their friends Tim and Gita, Joe notices Beth is withdrawn and seems to be in a bad mood. Later, while emptying the trash, Joe finds a positive pregnancy test and is overjoyed about becoming a father. Beth reveals she does not want the baby and is getting an abortion. Joe, still drunk, is heartbroken, and remembering she drank throughout dinner he calls her selfish and guilty of trying to kill their child. Too upset to talk, Beth blocks him through her Z-Eye, causing Joe to throw a vase across the room in anger before leaving the room. Beth leaves him the next morning without removing the block, preventing Joe from apologizing. He tries following her to work and meets Tim, who explains that she has left her job.\n",
            "\n",
            "A few months later, Joe spots Beth's silhouette (she is still blocking him with the Z-Eye) and sees she is heavily pregnant, having not gone through with the abortion. He confronts her and begs for a chance to talk, but Beth instead has him arrested, and Joe is given a restraining order and is legally \"blocked\" from seeing her or the child, or any photos they appear in. He writes many letters of apology to her, but she never replies. Determined to see his child, Joe waits for Beth at her father Gordon's cottage, where she spends every Christmas. Hiding in the woods outside, he sees Beth with the baby, but because the block extends to a person's offspring, it appears as a static-filled silhouette as well. For the next four years, Joe goes to Gordon's cottage every Christmas to watch his child from the woods and leave anonymous presents on the doorstep, and despite the block, he eventually discerns the child is a girl.\n",
            "\n",
            "One day while watching the news, Joe learns that Beth has died in a train crash. This causes the legal block to expire, so Joe can finally see his daughter. Heading to the cottage with a snow globe as a present, Joe spots the girl in the garden and cautiously approaches. However, the child has East Asian features, and Joe realizes Beth was cheating on him with Tim, which is why she wanted an abortion and refused to let Joe be part of her daughter's life. Devastated, Joe follows the girl into the cottage and confronts Gordon, who admits he destroyed the letters Joe wrote before Beth could read them. Losing his temper, Joe hits Gordon in the head with the snow globe, unintentionally killing him. He then flees the cottage and lives on the streets for a few months, until he is eventually apprehended by police.\n",
            "\n",
            "Conclusion\n",
            "Matt asks what happened to Beth's daughter, and although Joe initially claims he does not know, he remembers a police officer telling him she found her grandfather dead in the kitchen and went outside into the heavy snow to get help, but froze to death next to a tree in the garden. Joe breaks down, admitting he was responsible for the deaths of two innocent people. Matt seems relieved that he has succeeded in getting a \"confession\" out of Joe, who cannot remember coming to the outpost or what he and Matt do there. Joe suddenly realizes the outpost's interior is a replica of Gordon's kitchen, and Matt disappears. \"Joe\" is actually a digital copy similar to Greta's, as the real Joe refused to confess to his role in the deaths, so the police brought in Matt to draw a confession from his copy. The outpost was a five-year-long simulated environment within a Cookie that lasted only 70 minutes in real time.\n",
            "\n",
            "As the real Joe is charged with the deaths, Matt asks the police if he will be freed, having been arrested himself for his illegal seduction coaching, involvement in Harry's death and concealment of his role. Officer Holder (Robin Weaver) reveals that he will be released, but he has been registered as a sex offender, which means he will be blocked by everyone. Matt leaves the police station and walks out into a Christmas market, seeing everyone as white static silhouettes, while they see him as a red silhouette. He will be unable to interact with anyone for the rest of his life. Meanwhile, Joe's digital copy is left on, and an officer increases the Cookie's rate of time perception to one thousand years per minute and sets \"I Wish It Could Be Christmas Everyday\" (which was playing on the radio when Joe killed Beth's father) on a continuous loop. When Joe's copy tries to destroy the radio, another one appears in its place, playing the song increasingly louder each time. Holder allows this, intending to switch the Cookie off after Christmas. The story ends with the song playing endlessly, and with the body of Beth's daughter visible from the cottage window as the Cookie of Joe loses his mind.\n",
            "\n",
            "Sample labels: ['AI rights', 'digital clone of a person', 'speculative virtual reality', 'augmented reality', 'coping with being tortured', 'speculative punishment', 'what if I killed someone by accident']\n",
            "Encoded labels: [0 1]\n",
            "Sample topic: 0\n",
            "Probabilities are not available.\n"
          ]
        }
      ]
    },
    {
      "cell_type": "markdown",
      "source": [
        "Using **BERTopic** with 10 eposides"
      ],
      "metadata": {
        "id": "MherV_ypc50z"
      }
    },
    {
      "cell_type": "code",
      "source": [
        "from google.colab import files\n",
        "\n",
        "uploaded = files.upload()"
      ],
      "metadata": {
        "colab": {
          "base_uri": "https://localhost:8080/",
          "height": 110
        },
        "id": "yxgPu4EWVCk5",
        "outputId": "266ae76c-19fa-40b3-ad80-55acc1d38190"
      },
      "execution_count": 26,
      "outputs": [
        {
          "output_type": "display_data",
          "data": {
            "text/plain": [
              "<IPython.core.display.HTML object>"
            ],
            "text/html": [
              "\n",
              "     <input type=\"file\" id=\"files-f77bdde3-3431-4a7f-b237-aa7bf1856937\" name=\"files[]\" multiple disabled\n",
              "        style=\"border:none\" />\n",
              "     <output id=\"result-f77bdde3-3431-4a7f-b237-aa7bf1856937\">\n",
              "      Upload widget is only available when the cell has been executed in the\n",
              "      current browser session. Please rerun this cell to enable.\n",
              "      </output>\n",
              "      <script>// Copyright 2017 Google LLC\n",
              "//\n",
              "// Licensed under the Apache License, Version 2.0 (the \"License\");\n",
              "// you may not use this file except in compliance with the License.\n",
              "// You may obtain a copy of the License at\n",
              "//\n",
              "//      http://www.apache.org/licenses/LICENSE-2.0\n",
              "//\n",
              "// Unless required by applicable law or agreed to in writing, software\n",
              "// distributed under the License is distributed on an \"AS IS\" BASIS,\n",
              "// WITHOUT WARRANTIES OR CONDITIONS OF ANY KIND, either express or implied.\n",
              "// See the License for the specific language governing permissions and\n",
              "// limitations under the License.\n",
              "\n",
              "/**\n",
              " * @fileoverview Helpers for google.colab Python module.\n",
              " */\n",
              "(function(scope) {\n",
              "function span(text, styleAttributes = {}) {\n",
              "  const element = document.createElement('span');\n",
              "  element.textContent = text;\n",
              "  for (const key of Object.keys(styleAttributes)) {\n",
              "    element.style[key] = styleAttributes[key];\n",
              "  }\n",
              "  return element;\n",
              "}\n",
              "\n",
              "// Max number of bytes which will be uploaded at a time.\n",
              "const MAX_PAYLOAD_SIZE = 100 * 1024;\n",
              "\n",
              "function _uploadFiles(inputId, outputId) {\n",
              "  const steps = uploadFilesStep(inputId, outputId);\n",
              "  const outputElement = document.getElementById(outputId);\n",
              "  // Cache steps on the outputElement to make it available for the next call\n",
              "  // to uploadFilesContinue from Python.\n",
              "  outputElement.steps = steps;\n",
              "\n",
              "  return _uploadFilesContinue(outputId);\n",
              "}\n",
              "\n",
              "// This is roughly an async generator (not supported in the browser yet),\n",
              "// where there are multiple asynchronous steps and the Python side is going\n",
              "// to poll for completion of each step.\n",
              "// This uses a Promise to block the python side on completion of each step,\n",
              "// then passes the result of the previous step as the input to the next step.\n",
              "function _uploadFilesContinue(outputId) {\n",
              "  const outputElement = document.getElementById(outputId);\n",
              "  const steps = outputElement.steps;\n",
              "\n",
              "  const next = steps.next(outputElement.lastPromiseValue);\n",
              "  return Promise.resolve(next.value.promise).then((value) => {\n",
              "    // Cache the last promise value to make it available to the next\n",
              "    // step of the generator.\n",
              "    outputElement.lastPromiseValue = value;\n",
              "    return next.value.response;\n",
              "  });\n",
              "}\n",
              "\n",
              "/**\n",
              " * Generator function which is called between each async step of the upload\n",
              " * process.\n",
              " * @param {string} inputId Element ID of the input file picker element.\n",
              " * @param {string} outputId Element ID of the output display.\n",
              " * @return {!Iterable<!Object>} Iterable of next steps.\n",
              " */\n",
              "function* uploadFilesStep(inputId, outputId) {\n",
              "  const inputElement = document.getElementById(inputId);\n",
              "  inputElement.disabled = false;\n",
              "\n",
              "  const outputElement = document.getElementById(outputId);\n",
              "  outputElement.innerHTML = '';\n",
              "\n",
              "  const pickedPromise = new Promise((resolve) => {\n",
              "    inputElement.addEventListener('change', (e) => {\n",
              "      resolve(e.target.files);\n",
              "    });\n",
              "  });\n",
              "\n",
              "  const cancel = document.createElement('button');\n",
              "  inputElement.parentElement.appendChild(cancel);\n",
              "  cancel.textContent = 'Cancel upload';\n",
              "  const cancelPromise = new Promise((resolve) => {\n",
              "    cancel.onclick = () => {\n",
              "      resolve(null);\n",
              "    };\n",
              "  });\n",
              "\n",
              "  // Wait for the user to pick the files.\n",
              "  const files = yield {\n",
              "    promise: Promise.race([pickedPromise, cancelPromise]),\n",
              "    response: {\n",
              "      action: 'starting',\n",
              "    }\n",
              "  };\n",
              "\n",
              "  cancel.remove();\n",
              "\n",
              "  // Disable the input element since further picks are not allowed.\n",
              "  inputElement.disabled = true;\n",
              "\n",
              "  if (!files) {\n",
              "    return {\n",
              "      response: {\n",
              "        action: 'complete',\n",
              "      }\n",
              "    };\n",
              "  }\n",
              "\n",
              "  for (const file of files) {\n",
              "    const li = document.createElement('li');\n",
              "    li.append(span(file.name, {fontWeight: 'bold'}));\n",
              "    li.append(span(\n",
              "        `(${file.type || 'n/a'}) - ${file.size} bytes, ` +\n",
              "        `last modified: ${\n",
              "            file.lastModifiedDate ? file.lastModifiedDate.toLocaleDateString() :\n",
              "                                    'n/a'} - `));\n",
              "    const percent = span('0% done');\n",
              "    li.appendChild(percent);\n",
              "\n",
              "    outputElement.appendChild(li);\n",
              "\n",
              "    const fileDataPromise = new Promise((resolve) => {\n",
              "      const reader = new FileReader();\n",
              "      reader.onload = (e) => {\n",
              "        resolve(e.target.result);\n",
              "      };\n",
              "      reader.readAsArrayBuffer(file);\n",
              "    });\n",
              "    // Wait for the data to be ready.\n",
              "    let fileData = yield {\n",
              "      promise: fileDataPromise,\n",
              "      response: {\n",
              "        action: 'continue',\n",
              "      }\n",
              "    };\n",
              "\n",
              "    // Use a chunked sending to avoid message size limits. See b/62115660.\n",
              "    let position = 0;\n",
              "    do {\n",
              "      const length = Math.min(fileData.byteLength - position, MAX_PAYLOAD_SIZE);\n",
              "      const chunk = new Uint8Array(fileData, position, length);\n",
              "      position += length;\n",
              "\n",
              "      const base64 = btoa(String.fromCharCode.apply(null, chunk));\n",
              "      yield {\n",
              "        response: {\n",
              "          action: 'append',\n",
              "          file: file.name,\n",
              "          data: base64,\n",
              "        },\n",
              "      };\n",
              "\n",
              "      let percentDone = fileData.byteLength === 0 ?\n",
              "          100 :\n",
              "          Math.round((position / fileData.byteLength) * 100);\n",
              "      percent.textContent = `${percentDone}% done`;\n",
              "\n",
              "    } while (position < fileData.byteLength);\n",
              "  }\n",
              "\n",
              "  // All done.\n",
              "  yield {\n",
              "    response: {\n",
              "      action: 'complete',\n",
              "    }\n",
              "  };\n",
              "}\n",
              "\n",
              "scope.google = scope.google || {};\n",
              "scope.google.colab = scope.google.colab || {};\n",
              "scope.google.colab._files = {\n",
              "  _uploadFiles,\n",
              "  _uploadFilesContinue,\n",
              "};\n",
              "})(self);\n",
              "</script> "
            ]
          },
          "metadata": {}
        },
        {
          "output_type": "stream",
          "name": "stdout",
          "text": [
            "Saving 110.docx to 110.docx\n"
          ]
        }
      ]
    },
    {
      "cell_type": "code",
      "source": [
        "!pip install python-docx"
      ],
      "metadata": {
        "colab": {
          "base_uri": "https://localhost:8080/"
        },
        "id": "3a4lU2DgVe8Z",
        "outputId": "6c072845-a95d-4a4f-8761-8b2c9011ec73"
      },
      "execution_count": 27,
      "outputs": [
        {
          "output_type": "stream",
          "name": "stdout",
          "text": [
            "Requirement already satisfied: python-docx in /usr/local/lib/python3.10/dist-packages (1.1.2)\n",
            "Requirement already satisfied: lxml>=3.1.0 in /usr/local/lib/python3.10/dist-packages (from python-docx) (4.9.4)\n",
            "Requirement already satisfied: typing-extensions>=4.9.0 in /usr/local/lib/python3.10/dist-packages (from python-docx) (4.12.2)\n"
          ]
        }
      ]
    },
    {
      "cell_type": "code",
      "source": [
        "import json\n",
        "from docx import Document\n",
        "\n",
        "# 假设上传的文件名为 '110.docx'\n",
        "file_name = '110.docx'\n",
        "\n",
        "# 读取Word文档\n",
        "doc = Document(file_name)\n",
        "\n",
        "data = []\n",
        "\n",
        "# 提取文档内容和标签\n",
        "for para in doc.paragraphs:\n",
        "    if para.text.strip():\n",
        "        parts = para.text.split('\\t')\n",
        "        if len(parts) >= 2:\n",
        "            content = parts[0].strip()\n",
        "            labels = [label.strip() for label in parts[1].split(',')]\n",
        "            data.append({\n",
        "                \"content\": content,\n",
        "                \"labels\": labels\n",
        "            })\n",
        "\n",
        "# 打印提取到的文档和标签\n",
        "print(f\"Number of documents: {len(data)}\")\n",
        "print(f\"Sample document: {data[0]}\")\n",
        "\n",
        "# 将数据写入JSON文件\n",
        "json_file_name = '110.json'\n",
        "with open(json_file_name, 'w', encoding='utf-8') as json_file:\n",
        "    json.dump(data, json_file, ensure_ascii=False, indent=4)\n",
        "\n",
        "print(f\"JSON file '{json_file_name}' created successfully!\")\n"
      ],
      "metadata": {
        "colab": {
          "base_uri": "https://localhost:8080/"
        },
        "id": "LaRTThH-FVtC",
        "outputId": "d3ddee98-6351-476a-8cee-a83f8ad611b2"
      },
      "execution_count": 29,
      "outputs": [
        {
          "output_type": "stream",
          "name": "stdout",
          "text": [
            "Number of documents: 9\n",
            "Sample document: {'content': 'Joe Potter and Matthew Trent work at a small, remote outpost in the middle of a snowy wilderness. Joe wakes up on Christmas Day to find Matt preparing Christmas dinner, with \"I Wish It Could Be Christmas Everyday\" playing on the radio. Matt tries to get Joe to talk about why he accepted the job at the outpost, a topic they have never discussed in the five years they have worked together. Joe is reluctant to say anything and instead asks why Matt took the job. Happy with the conversation, Matt begins his story. The story is set in a world where people can access the Internet through an augmented reality device implanted in their eyes called the \"Z-Eye\". Matt was once a dating coach who taught seduction techniques to single men who struggle to attract women. He directs one of his clients, the shy and socially awkward Harry, into gatecrashing an office Christmas party, and communicates with him through the Z-Eye. They are then joined by a group call of other single men, voicing their opinions and suggestions. Using information Matt gathers from social media, Harry convinces the party guests that they know him, and he decides to try bonding with Jennifer, a quiet \"attractive outsider\" who does not join in group conversations. With Matt\\'s help, Harry manages to start a conversation with Jennifer, who admits she used to take drugs to fit in at parties, but not anymore, and that she is thinking of leaving the company after Christmas. She\\'s nervous about which voice to listen to, the ones saying \"do it\" or the other half telling her not to. Gaining confidence, Harry encourages her to be bold and go for it, to which she responds warmly. When she leaves to get a drink, Harry voices his doubts to the group about going through with the deceit. He argues with Matt out loud, and when Jennifer sees Harry seemingly arguing with himself she asks him back to her home. Thinking he is about to have sex, Harry agrees to go with her. Once they enter the bedroom she offers him a strong drink, and as he tries to hold his liquor, she talks about how this drink will liberate them from the \"voices\" that watch them and try to get in their head. Harry and all the men watching gradually deduce that Jennifer has schizophrenia, has gone off of her medication and has just poisoned him. She mistakenly believes that Harry suffers from the same problem, and decides they will escape the voices together through suicide. A weakened Harry desperately struggles to explain about the Z-Eye and the watcher\\'s club, but Jennifer assumes he is speaking metaphorically and forces a poisoned drink down his throat after drinking it herself. Matt\\'s wife learns what he has been doing and becomes angry and fights with him. She then \"blocks\" him through the Z-Eye, meaning that they can no longer see or hear each other--audio is muffled and unintelligible, and where the person stands, there is only white static in the person\\'s shape, similar to the appearance of a TV tuned to a dead channel. Matt\\'s wife breaks up with him and takes custody of their daughter, and Matt reveals that the reason he took the job at the outpost was to get away from his old life, stating that he \"didn\\'t want to be surrounded by reminders\". He reveals to Joe that coaching people into sexual encounters was merely his hobby, and goes on to explain what he did in his real job. Greta is a wealthy and demanding woman. For example, while she waits in a clinic for an operation, she rejects the breakfast in bed that they serve her because the toast is browned slightly more than she considers acceptable. The anesthetist tells Greta to count backward from ten as she is sedated. As she counts, she appears to have an out-of-body experience and is shown to be a bean-sized chip placed in a portable electronic device. The device is returned to Greta\\'s home, where her confused and terrified consciousness is greeted by Matt. He explains that she is not actually Greta, but a digital copy of her consciousness called a Cookie, designed to control the smart house and ensure everything is perfect for the real Greta so that she will never again face the dilemma of having something not quite to her liking or having to instruct others about her exact desires. Matt then creates a virtual body for the digital copy and puts her in a simulated white room with nothing in it but a control panel. The copy refuses to accept that it is not a real person and rejects being forced into being solely a slave to all of Greta\\'s petty desires. Matt\\'s job is to break the willpower of digital copies through torture, so they will submit to a life of servitude to their real counterparts. He accelerates the copy\\'s perception of time so three weeks pass in a matter of seconds, and she is traumatized by her solitude in the room with nothing to do. Despite this, the copy still refuses to work, so Matt repeats the process and increases the time to six months. This drives her mad with emptiness, so when Matt reappears to her she immediately submits to her new role. The next morning, the real Greta is awakened to her favourite music, and her copy, whose spirit is completely broken, prepares Greta\\'s breakfast exactly as she knows Greta likes it and shows her a list of her upcoming appointments. In the present day, Joe is disgusted by Matt making a career from torturing into submission computer programs that were self-aware and conscious, even if they were merely artificial. Matt determines that Joe is an empathetic person, and asks again why he came to the outpost. Having loosened up with a drink, Joe says that his girlfriend\\'s dad never liked him, and explains his situation. Joe once had a long-term relationship with Beth, and while they were mostly happy, their main problem was Joe\\'s tendency to act foolishly while drunk. One evening, while having dinner with their friends Tim and Gita, Joe notices Beth is withdrawn and seems to be in a bad mood. Later, while emptying the trash, Joe finds a positive pregnancy test and is overjoyed about becoming a father. Beth reveals she does not want the baby and is getting an abortion. Joe, still drunk, is heartbroken, and remembering she drank throughout dinner he calls her selfish and guilty of trying to kill their child. Too upset to talk, Beth blocks him through her Z-Eye, causing Joe to throw a vase across the room in anger before leaving the room. Beth leaves him the next morning without removing the block, preventing Joe from apologizing. He tries following her to work and meets Tim, who explains that she has left her job. A few months later, Joe spots Beth\\'s silhouette (she is still blocking him with the Z-Eye) and sees she is heavily pregnant, having not gone through with the abortion. He confronts her and begs for a chance to talk, but Beth instead has him arrested, and Joe is given a restraining order and is legally \"blocked\" from seeing her or the child, or any photos they appear in. He writes many letters of apology to her, but she never replies. Determined to see his child, Joe waits for Beth at her father Gordon\\'s cottage, where she spends every Christmas. Hiding in the woods outside, he sees Beth with the baby, but because the block extends to a person\\'s offspring, it appears as a static-filled silhouette as well. For the next four years, Joe goes to Gordon\\'s cottage every Christmas to watch his child from the woods and leave anonymous presents on the doorstep, and despite the block, he eventually discerns the child is a girl. One day while watching the news, Joe learns that Beth has died in a train crash. This causes the legal block to expire, so Joe can finally see his daughter. Heading to the cottage with a snow globe as a present, Joe spots the girl in the garden and cautiously approaches. However, the child has East Asian features, and Joe realizes Beth was cheating on him with Tim, which is why she wanted an abortion and refused to let Joe be part of her daughter\\'s life. Devastated, Joe follows the girl into the cottage and confronts Gordon, who admits he destroyed the letters Joe wrote before Beth could read them. Losing his temper, Joe hits Gordon in the head with the snow globe, unintentionally killing him. He then flees the cottage and lives on the streets for a few months, until he is eventually apprehended by police. Matt asks what happened to Beth\\'s daughter, and although Joe initially claims he does not know, he remembers a police officer telling him she found her grandfather dead in the kitchen and went outside into the heavy snow to get help, but froze to death next to a tree in the garden. Joe breaks down, admitting he was responsible for the deaths of two innocent people. Matt seems relieved that he has succeeded in getting a \"confession\" out of Joe, who cannot remember coming to the outpost or what he and Matt do there. Joe suddenly realizes the outpost\\'s interior is a replica of Gordon\\'s kitchen, and Matt disappears. \"Joe\" is actually a digital copy similar to Greta\\'s, as the real Joe refused to confess to his role in the deaths, so the police brought in Matt to draw a confession from his copy. The outpost was a five-year-long simulated environment within a Cookie that lasted only 70 minutes in real time. As the real Joe is charged with the deaths, Matt asks the police if he will be freed, having been arrested himself for his illegal seduction coaching, involvement in Harry\\'s death and concealment of his role. Officer Holder (Robin Weaver) reveals that he will be released, but he has been registered as a sex offender, which means he will be blocked by everyone. Matt leaves the police station and walks out into a Christmas market, seeing everyone as white static silhouettes, while they see him as a red silhouette. He will be unable to interact with anyone for the rest of his life. Meanwhile, Joe\\'s digital copy is left on, and an officer increases the Cookie\\'s rate of time perception to one thousand years per minute and sets \"I Wish It Could Be Christmas Everyday\" (which was playing on the radio when Joe killed Beth\\'s father) on a continuous loop. When Joe\\'s copy tries to destroy the radio, another one appears in its place, playing the song increasingly louder each time. Holder allows this, intending to switch the Cookie off after Christmas. The story ends with the song playing endlessly, and with the body of Beth\\'s daughter visible from the cottage window as the Cookie of Joe loses his mind.', 'labels': ['AI rights', 'digital clone of a person', 'speculative virtual reality', 'augmented reality', 'coping with being tortured', 'speculative punishment', 'what if I killed someone by accident']}\n",
            "JSON file '110.json' created successfully!\n"
          ]
        }
      ]
    },
    {
      "cell_type": "code",
      "source": [
        "import json\n",
        "from sklearn.feature_extraction.text import CountVectorizer\n",
        "\n",
        "# 读取JSON文件\n",
        "file_name = '110.json'\n",
        "\n",
        "with open(file_name, 'r') as input_file:\n",
        "    data = json.load(input_file)\n",
        "\n",
        "# 提取文档和标签\n",
        "docs = [item['content'] for item in data]\n",
        "labels = [item['labels'] for item in data]\n",
        "\n",
        "# 打印文档和标签的数量，以及一个示例文档和它的标签\n",
        "print(f\"Number of documents: {len(docs)}\")\n",
        "print(f\"Number of labels: {len(labels)}\")\n",
        "print(f\"Sample document: {docs[0]}\")\n",
        "print(f\"Sample label: {labels[0]}\")\n",
        "\n",
        "# 使用CountVectorizer将文本转换为向量\n",
        "vectorizer = CountVectorizer()\n",
        "X = vectorizer.fit_transform(docs)\n",
        "\n",
        "print(f\"Feature shape: {X.shape}\")"
      ],
      "metadata": {
        "colab": {
          "base_uri": "https://localhost:8080/"
        },
        "id": "Dm7cgviPFVw6",
        "outputId": "3405671f-7f8f-4ad5-a9e4-46d86822eeb0"
      },
      "execution_count": 31,
      "outputs": [
        {
          "output_type": "stream",
          "name": "stdout",
          "text": [
            "Number of documents: 9\n",
            "Number of labels: 9\n",
            "Sample document: Joe Potter and Matthew Trent work at a small, remote outpost in the middle of a snowy wilderness. Joe wakes up on Christmas Day to find Matt preparing Christmas dinner, with \"I Wish It Could Be Christmas Everyday\" playing on the radio. Matt tries to get Joe to talk about why he accepted the job at the outpost, a topic they have never discussed in the five years they have worked together. Joe is reluctant to say anything and instead asks why Matt took the job. Happy with the conversation, Matt begins his story. The story is set in a world where people can access the Internet through an augmented reality device implanted in their eyes called the \"Z-Eye\". Matt was once a dating coach who taught seduction techniques to single men who struggle to attract women. He directs one of his clients, the shy and socially awkward Harry, into gatecrashing an office Christmas party, and communicates with him through the Z-Eye. They are then joined by a group call of other single men, voicing their opinions and suggestions. Using information Matt gathers from social media, Harry convinces the party guests that they know him, and he decides to try bonding with Jennifer, a quiet \"attractive outsider\" who does not join in group conversations. With Matt's help, Harry manages to start a conversation with Jennifer, who admits she used to take drugs to fit in at parties, but not anymore, and that she is thinking of leaving the company after Christmas. She's nervous about which voice to listen to, the ones saying \"do it\" or the other half telling her not to. Gaining confidence, Harry encourages her to be bold and go for it, to which she responds warmly. When she leaves to get a drink, Harry voices his doubts to the group about going through with the deceit. He argues with Matt out loud, and when Jennifer sees Harry seemingly arguing with himself she asks him back to her home. Thinking he is about to have sex, Harry agrees to go with her. Once they enter the bedroom she offers him a strong drink, and as he tries to hold his liquor, she talks about how this drink will liberate them from the \"voices\" that watch them and try to get in their head. Harry and all the men watching gradually deduce that Jennifer has schizophrenia, has gone off of her medication and has just poisoned him. She mistakenly believes that Harry suffers from the same problem, and decides they will escape the voices together through suicide. A weakened Harry desperately struggles to explain about the Z-Eye and the watcher's club, but Jennifer assumes he is speaking metaphorically and forces a poisoned drink down his throat after drinking it herself. Matt's wife learns what he has been doing and becomes angry and fights with him. She then \"blocks\" him through the Z-Eye, meaning that they can no longer see or hear each other--audio is muffled and unintelligible, and where the person stands, there is only white static in the person's shape, similar to the appearance of a TV tuned to a dead channel. Matt's wife breaks up with him and takes custody of their daughter, and Matt reveals that the reason he took the job at the outpost was to get away from his old life, stating that he \"didn't want to be surrounded by reminders\". He reveals to Joe that coaching people into sexual encounters was merely his hobby, and goes on to explain what he did in his real job. Greta is a wealthy and demanding woman. For example, while she waits in a clinic for an operation, she rejects the breakfast in bed that they serve her because the toast is browned slightly more than she considers acceptable. The anesthetist tells Greta to count backward from ten as she is sedated. As she counts, she appears to have an out-of-body experience and is shown to be a bean-sized chip placed in a portable electronic device. The device is returned to Greta's home, where her confused and terrified consciousness is greeted by Matt. He explains that she is not actually Greta, but a digital copy of her consciousness called a Cookie, designed to control the smart house and ensure everything is perfect for the real Greta so that she will never again face the dilemma of having something not quite to her liking or having to instruct others about her exact desires. Matt then creates a virtual body for the digital copy and puts her in a simulated white room with nothing in it but a control panel. The copy refuses to accept that it is not a real person and rejects being forced into being solely a slave to all of Greta's petty desires. Matt's job is to break the willpower of digital copies through torture, so they will submit to a life of servitude to their real counterparts. He accelerates the copy's perception of time so three weeks pass in a matter of seconds, and she is traumatized by her solitude in the room with nothing to do. Despite this, the copy still refuses to work, so Matt repeats the process and increases the time to six months. This drives her mad with emptiness, so when Matt reappears to her she immediately submits to her new role. The next morning, the real Greta is awakened to her favourite music, and her copy, whose spirit is completely broken, prepares Greta's breakfast exactly as she knows Greta likes it and shows her a list of her upcoming appointments. In the present day, Joe is disgusted by Matt making a career from torturing into submission computer programs that were self-aware and conscious, even if they were merely artificial. Matt determines that Joe is an empathetic person, and asks again why he came to the outpost. Having loosened up with a drink, Joe says that his girlfriend's dad never liked him, and explains his situation. Joe once had a long-term relationship with Beth, and while they were mostly happy, their main problem was Joe's tendency to act foolishly while drunk. One evening, while having dinner with their friends Tim and Gita, Joe notices Beth is withdrawn and seems to be in a bad mood. Later, while emptying the trash, Joe finds a positive pregnancy test and is overjoyed about becoming a father. Beth reveals she does not want the baby and is getting an abortion. Joe, still drunk, is heartbroken, and remembering she drank throughout dinner he calls her selfish and guilty of trying to kill their child. Too upset to talk, Beth blocks him through her Z-Eye, causing Joe to throw a vase across the room in anger before leaving the room. Beth leaves him the next morning without removing the block, preventing Joe from apologizing. He tries following her to work and meets Tim, who explains that she has left her job. A few months later, Joe spots Beth's silhouette (she is still blocking him with the Z-Eye) and sees she is heavily pregnant, having not gone through with the abortion. He confronts her and begs for a chance to talk, but Beth instead has him arrested, and Joe is given a restraining order and is legally \"blocked\" from seeing her or the child, or any photos they appear in. He writes many letters of apology to her, but she never replies. Determined to see his child, Joe waits for Beth at her father Gordon's cottage, where she spends every Christmas. Hiding in the woods outside, he sees Beth with the baby, but because the block extends to a person's offspring, it appears as a static-filled silhouette as well. For the next four years, Joe goes to Gordon's cottage every Christmas to watch his child from the woods and leave anonymous presents on the doorstep, and despite the block, he eventually discerns the child is a girl. One day while watching the news, Joe learns that Beth has died in a train crash. This causes the legal block to expire, so Joe can finally see his daughter. Heading to the cottage with a snow globe as a present, Joe spots the girl in the garden and cautiously approaches. However, the child has East Asian features, and Joe realizes Beth was cheating on him with Tim, which is why she wanted an abortion and refused to let Joe be part of her daughter's life. Devastated, Joe follows the girl into the cottage and confronts Gordon, who admits he destroyed the letters Joe wrote before Beth could read them. Losing his temper, Joe hits Gordon in the head with the snow globe, unintentionally killing him. He then flees the cottage and lives on the streets for a few months, until he is eventually apprehended by police. Matt asks what happened to Beth's daughter, and although Joe initially claims he does not know, he remembers a police officer telling him she found her grandfather dead in the kitchen and went outside into the heavy snow to get help, but froze to death next to a tree in the garden. Joe breaks down, admitting he was responsible for the deaths of two innocent people. Matt seems relieved that he has succeeded in getting a \"confession\" out of Joe, who cannot remember coming to the outpost or what he and Matt do there. Joe suddenly realizes the outpost's interior is a replica of Gordon's kitchen, and Matt disappears. \"Joe\" is actually a digital copy similar to Greta's, as the real Joe refused to confess to his role in the deaths, so the police brought in Matt to draw a confession from his copy. The outpost was a five-year-long simulated environment within a Cookie that lasted only 70 minutes in real time. As the real Joe is charged with the deaths, Matt asks the police if he will be freed, having been arrested himself for his illegal seduction coaching, involvement in Harry's death and concealment of his role. Officer Holder (Robin Weaver) reveals that he will be released, but he has been registered as a sex offender, which means he will be blocked by everyone. Matt leaves the police station and walks out into a Christmas market, seeing everyone as white static silhouettes, while they see him as a red silhouette. He will be unable to interact with anyone for the rest of his life. Meanwhile, Joe's digital copy is left on, and an officer increases the Cookie's rate of time perception to one thousand years per minute and sets \"I Wish It Could Be Christmas Everyday\" (which was playing on the radio when Joe killed Beth's father) on a continuous loop. When Joe's copy tries to destroy the radio, another one appears in its place, playing the song increasingly louder each time. Holder allows this, intending to switch the Cookie off after Christmas. The story ends with the song playing endlessly, and with the body of Beth's daughter visible from the cottage window as the Cookie of Joe loses his mind.\n",
            "Sample label: ['AI rights', 'digital clone of a person', 'speculative virtual reality', 'augmented reality', 'coping with being tortured', 'speculative punishment', 'what if I killed someone by accident']\n",
            "Feature shape: (9, 2036)\n"
          ]
        }
      ]
    },
    {
      "cell_type": "code",
      "source": [
        "import json\n",
        "from sklearn.preprocessing import LabelEncoder\n",
        "from bertopic import BERTopic\n",
        "from bertopic.backend import BaseEmbedder\n",
        "from bertopic.cluster import BaseCluster\n",
        "from bertopic.vectorizers import ClassTfidfTransformer\n",
        "from bertopic.dimensionality import BaseDimensionalityReduction\n",
        "\n",
        "# 读取JSON文件\n",
        "file_name = '110.json'\n",
        "\n",
        "with open(file_name, 'r') as input_file:\n",
        "    data = json.load(input_file)\n",
        "\n",
        "# 提取文档和标签\n",
        "docs = [item['content'] for item in data]\n",
        "labels = [item['labels'] for item in data]\n",
        "\n",
        "# 打印文档和标签的数量，以及一个示例文档和它的标签\n",
        "print(f\"Number of documents: {len(docs)}\")\n",
        "print(f\"Number of labels: {len(labels)}\")\n",
        "print(f\"Sample document: {docs[0]}\")\n",
        "print(f\"Sample labels: {labels[0]}\")\n",
        "\n",
        "# 对每个文档使用第一个标签\n",
        "single_labels = [label[0] if label else 'unknown' for label in labels]\n",
        "\n",
        "# 使用LabelEncoder将标签编码为数字\n",
        "label_encoder = LabelEncoder()\n",
        "y = label_encoder.fit_transform(single_labels)\n",
        "\n",
        "print(f\"Encoded labels: {y}\")\n",
        "\n",
        "# Prepare our empty sub-models and reduce frequent words while we are at it.\n",
        "empty_embedding_model = BaseEmbedder()\n",
        "empty_dimensionality_model = BaseDimensionalityReduction()\n",
        "empty_cluster_model = BaseCluster()\n",
        "ctfidf_model = ClassTfidfTransformer(reduce_frequent_words=True)\n",
        "\n",
        "# Fit BERTopic without actually performing any clustering\n",
        "topic_model = BERTopic(\n",
        "    embedding_model=empty_embedding_model,\n",
        "    umap_model=empty_dimensionality_model,\n",
        "    hdbscan_model=empty_cluster_model,\n",
        "    ctfidf_model=ctfidf_model,\n",
        "    calculate_probabilities=True\n",
        ")\n",
        "\n",
        "# Fit the BERTopic model\n",
        "topics, probs = topic_model.fit_transform(docs, y=y)\n",
        "\n",
        "# Print the results\n",
        "print(f\"Sample topic: {topics[0]}\")\n",
        "if probs is not None:\n",
        "    print(f\"Sample probabilities: {probs[0]}\")\n",
        "else:\n",
        "    print(\"Probabilities are not available.\")"
      ],
      "metadata": {
        "colab": {
          "base_uri": "https://localhost:8080/"
        },
        "id": "XzZM3ah5bqeC",
        "outputId": "25015266-4836-4ab2-ca16-c8eff1bd7cfc"
      },
      "execution_count": 32,
      "outputs": [
        {
          "output_type": "stream",
          "name": "stdout",
          "text": [
            "Number of documents: 9\n",
            "Number of labels: 9\n",
            "Sample document: Joe Potter and Matthew Trent work at a small, remote outpost in the middle of a snowy wilderness. Joe wakes up on Christmas Day to find Matt preparing Christmas dinner, with \"I Wish It Could Be Christmas Everyday\" playing on the radio. Matt tries to get Joe to talk about why he accepted the job at the outpost, a topic they have never discussed in the five years they have worked together. Joe is reluctant to say anything and instead asks why Matt took the job. Happy with the conversation, Matt begins his story. The story is set in a world where people can access the Internet through an augmented reality device implanted in their eyes called the \"Z-Eye\". Matt was once a dating coach who taught seduction techniques to single men who struggle to attract women. He directs one of his clients, the shy and socially awkward Harry, into gatecrashing an office Christmas party, and communicates with him through the Z-Eye. They are then joined by a group call of other single men, voicing their opinions and suggestions. Using information Matt gathers from social media, Harry convinces the party guests that they know him, and he decides to try bonding with Jennifer, a quiet \"attractive outsider\" who does not join in group conversations. With Matt's help, Harry manages to start a conversation with Jennifer, who admits she used to take drugs to fit in at parties, but not anymore, and that she is thinking of leaving the company after Christmas. She's nervous about which voice to listen to, the ones saying \"do it\" or the other half telling her not to. Gaining confidence, Harry encourages her to be bold and go for it, to which she responds warmly. When she leaves to get a drink, Harry voices his doubts to the group about going through with the deceit. He argues with Matt out loud, and when Jennifer sees Harry seemingly arguing with himself she asks him back to her home. Thinking he is about to have sex, Harry agrees to go with her. Once they enter the bedroom she offers him a strong drink, and as he tries to hold his liquor, she talks about how this drink will liberate them from the \"voices\" that watch them and try to get in their head. Harry and all the men watching gradually deduce that Jennifer has schizophrenia, has gone off of her medication and has just poisoned him. She mistakenly believes that Harry suffers from the same problem, and decides they will escape the voices together through suicide. A weakened Harry desperately struggles to explain about the Z-Eye and the watcher's club, but Jennifer assumes he is speaking metaphorically and forces a poisoned drink down his throat after drinking it herself. Matt's wife learns what he has been doing and becomes angry and fights with him. She then \"blocks\" him through the Z-Eye, meaning that they can no longer see or hear each other--audio is muffled and unintelligible, and where the person stands, there is only white static in the person's shape, similar to the appearance of a TV tuned to a dead channel. Matt's wife breaks up with him and takes custody of their daughter, and Matt reveals that the reason he took the job at the outpost was to get away from his old life, stating that he \"didn't want to be surrounded by reminders\". He reveals to Joe that coaching people into sexual encounters was merely his hobby, and goes on to explain what he did in his real job. Greta is a wealthy and demanding woman. For example, while she waits in a clinic for an operation, she rejects the breakfast in bed that they serve her because the toast is browned slightly more than she considers acceptable. The anesthetist tells Greta to count backward from ten as she is sedated. As she counts, she appears to have an out-of-body experience and is shown to be a bean-sized chip placed in a portable electronic device. The device is returned to Greta's home, where her confused and terrified consciousness is greeted by Matt. He explains that she is not actually Greta, but a digital copy of her consciousness called a Cookie, designed to control the smart house and ensure everything is perfect for the real Greta so that she will never again face the dilemma of having something not quite to her liking or having to instruct others about her exact desires. Matt then creates a virtual body for the digital copy and puts her in a simulated white room with nothing in it but a control panel. The copy refuses to accept that it is not a real person and rejects being forced into being solely a slave to all of Greta's petty desires. Matt's job is to break the willpower of digital copies through torture, so they will submit to a life of servitude to their real counterparts. He accelerates the copy's perception of time so three weeks pass in a matter of seconds, and she is traumatized by her solitude in the room with nothing to do. Despite this, the copy still refuses to work, so Matt repeats the process and increases the time to six months. This drives her mad with emptiness, so when Matt reappears to her she immediately submits to her new role. The next morning, the real Greta is awakened to her favourite music, and her copy, whose spirit is completely broken, prepares Greta's breakfast exactly as she knows Greta likes it and shows her a list of her upcoming appointments. In the present day, Joe is disgusted by Matt making a career from torturing into submission computer programs that were self-aware and conscious, even if they were merely artificial. Matt determines that Joe is an empathetic person, and asks again why he came to the outpost. Having loosened up with a drink, Joe says that his girlfriend's dad never liked him, and explains his situation. Joe once had a long-term relationship with Beth, and while they were mostly happy, their main problem was Joe's tendency to act foolishly while drunk. One evening, while having dinner with their friends Tim and Gita, Joe notices Beth is withdrawn and seems to be in a bad mood. Later, while emptying the trash, Joe finds a positive pregnancy test and is overjoyed about becoming a father. Beth reveals she does not want the baby and is getting an abortion. Joe, still drunk, is heartbroken, and remembering she drank throughout dinner he calls her selfish and guilty of trying to kill their child. Too upset to talk, Beth blocks him through her Z-Eye, causing Joe to throw a vase across the room in anger before leaving the room. Beth leaves him the next morning without removing the block, preventing Joe from apologizing. He tries following her to work and meets Tim, who explains that she has left her job. A few months later, Joe spots Beth's silhouette (she is still blocking him with the Z-Eye) and sees she is heavily pregnant, having not gone through with the abortion. He confronts her and begs for a chance to talk, but Beth instead has him arrested, and Joe is given a restraining order and is legally \"blocked\" from seeing her or the child, or any photos they appear in. He writes many letters of apology to her, but she never replies. Determined to see his child, Joe waits for Beth at her father Gordon's cottage, where she spends every Christmas. Hiding in the woods outside, he sees Beth with the baby, but because the block extends to a person's offspring, it appears as a static-filled silhouette as well. For the next four years, Joe goes to Gordon's cottage every Christmas to watch his child from the woods and leave anonymous presents on the doorstep, and despite the block, he eventually discerns the child is a girl. One day while watching the news, Joe learns that Beth has died in a train crash. This causes the legal block to expire, so Joe can finally see his daughter. Heading to the cottage with a snow globe as a present, Joe spots the girl in the garden and cautiously approaches. However, the child has East Asian features, and Joe realizes Beth was cheating on him with Tim, which is why she wanted an abortion and refused to let Joe be part of her daughter's life. Devastated, Joe follows the girl into the cottage and confronts Gordon, who admits he destroyed the letters Joe wrote before Beth could read them. Losing his temper, Joe hits Gordon in the head with the snow globe, unintentionally killing him. He then flees the cottage and lives on the streets for a few months, until he is eventually apprehended by police. Matt asks what happened to Beth's daughter, and although Joe initially claims he does not know, he remembers a police officer telling him she found her grandfather dead in the kitchen and went outside into the heavy snow to get help, but froze to death next to a tree in the garden. Joe breaks down, admitting he was responsible for the deaths of two innocent people. Matt seems relieved that he has succeeded in getting a \"confession\" out of Joe, who cannot remember coming to the outpost or what he and Matt do there. Joe suddenly realizes the outpost's interior is a replica of Gordon's kitchen, and Matt disappears. \"Joe\" is actually a digital copy similar to Greta's, as the real Joe refused to confess to his role in the deaths, so the police brought in Matt to draw a confession from his copy. The outpost was a five-year-long simulated environment within a Cookie that lasted only 70 minutes in real time. As the real Joe is charged with the deaths, Matt asks the police if he will be freed, having been arrested himself for his illegal seduction coaching, involvement in Harry's death and concealment of his role. Officer Holder (Robin Weaver) reveals that he will be released, but he has been registered as a sex offender, which means he will be blocked by everyone. Matt leaves the police station and walks out into a Christmas market, seeing everyone as white static silhouettes, while they see him as a red silhouette. He will be unable to interact with anyone for the rest of his life. Meanwhile, Joe's digital copy is left on, and an officer increases the Cookie's rate of time perception to one thousand years per minute and sets \"I Wish It Could Be Christmas Everyday\" (which was playing on the radio when Joe killed Beth's father) on a continuous loop. When Joe's copy tries to destroy the radio, another one appears in its place, playing the song increasingly louder each time. Holder allows this, intending to switch the Cookie off after Christmas. The story ends with the song playing endlessly, and with the body of Beth's daughter visible from the cottage window as the Cookie of Joe loses his mind.\n",
            "Sample labels: ['AI rights', 'digital clone of a person', 'speculative virtual reality', 'augmented reality', 'coping with being tortured', 'speculative punishment', 'what if I killed someone by accident']\n",
            "Encoded labels: [0 4 3 5 1 7 6 2 4]\n",
            "Sample topic: 1\n",
            "Probabilities are not available.\n"
          ]
        }
      ]
    },
    {
      "cell_type": "code",
      "source": [],
      "metadata": {
        "id": "KDcjuib_bqtU"
      },
      "execution_count": null,
      "outputs": []
    }
  ]
}