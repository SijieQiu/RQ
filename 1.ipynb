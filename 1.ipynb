{
  "nbformat": 4,
  "nbformat_minor": 0,
  "metadata": {
    "colab": {
      "provenance": [],
      "authorship_tag": "ABX9TyO6SnU0RiHwRyKa485wTgxL",
      "include_colab_link": true
    },
    "kernelspec": {
      "name": "python3",
      "display_name": "Python 3"
    },
    "language_info": {
      "name": "python"
    }
  },
  "cells": [
    {
      "cell_type": "markdown",
      "metadata": {
        "id": "view-in-github",
        "colab_type": "text"
      },
      "source": [
        "<a href=\"https://colab.research.google.com/github/SijieQiu/RQ/blob/main/1.ipynb\" target=\"_parent\"><img src=\"https://colab.research.google.com/assets/colab-badge.svg\" alt=\"Open In Colab\"/></a>"
      ]
    },
    {
      "cell_type": "code",
      "source": [
        "import json\n",
        "\n",
        "# Define contents and labels\n",
        "contents = [\n",
        "    \"Joe Potter and Matthew Trent work at a small, remote outpost in the middle of a snowy wilderness. Joe wakes up on Christmas Day to find Matt preparing Christmas dinner, with \\\"I Wish It Could Be Christmas Everyday\\\" playing on the radio. Matt tries to get Joe to talk about why he accepted the job at the outpost, a topic they have never discussed in the five years they have worked together. Joe is reluctant to say anything and instead asks why Matt took the job. Happy with the conversation, Matt begins his story.\\n\\nPart I\\nThe story is set in a world where people can access the Internet through an augmented reality device implanted in their eyes called the \\\"Z-Eye\\\". Matt was once a dating coach who taught seduction techniques to single men who struggle to attract women. He directs one of his clients, the shy and socially awkward Harry, into gatecrashing an office Christmas party, and communicates with him through the Z-Eye. They are then joined by a group call of other single men, voicing their opinions and suggestions. Using information Matt gathers from social media, Harry convinces the party guests that they know him, and he decides to try bonding with Jennifer, a quiet \\\"attractive outsider\\\" who does not join in group conversations. With Matt's help, Harry manages to start a conversation with Jennifer, who admits she used to take drugs to fit in at parties, but not anymore, and that she is thinking of leaving the company after Christmas. She's nervous about which voice to listen to, the ones saying \\\"do it\\\" or the other half telling her not to. Gaining confidence, Harry encourages her to be bold and go for it, to which she responds warmly. When she leaves to get a drink, Harry voices his doubts to the group about going through with the deceit. He argues with Matt out loud, and when Jennifer sees Harry seemingly arguing with himself she asks him back to her home.\\n\\nThinking he is about to have sex, Harry agrees to go with her. Once they enter the bedroom she offers him a strong drink, and as he tries to hold his liquor, she talks about how this drink will liberate them from the \\\"voices\\\" that watch them and try to get in their head. Harry and all the men watching gradually deduce that Jennifer has schizophrenia, has gone off of her medication and has just poisoned him. She mistakenly believes that Harry suffers from the same problem, and decides they will escape the voices together through suicide. A weakened Harry desperately struggles to explain about the Z-Eye and the watcher's club, but Jennifer assumes he is speaking metaphorically and forces a poisoned drink down his throat after drinking it herself. Matt's wife learns what he has been doing and becomes angry and fights with him. She then \\\"blocks\\\" him through the Z-Eye, meaning that they can no longer see or hear each other--audio is muffled and unintelligible, and where the person stands, there is only white static in the person's shape, similar to the appearance of a TV tuned to a dead channel. Matt's wife breaks up with him and takes custody of their daughter, and Matt reveals that the reason he took the job at the outpost was to get away from his old life, stating that he \\\"didn't want to be surrounded by reminders\\\". He reveals to Joe that coaching people into sexual encounters was merely his hobby, and goes on to explain what he did in his real job.\\n\\nPart II\\nGreta is a wealthy and demanding woman. For example, while she waits in a clinic for an operation, she rejects the breakfast in bed that they serve her because the toast is browned slightly more than she considers acceptable. The anesthetist tells Greta to count backward from ten as she is sedated. As she counts, she appears to have an out-of-body experience and is shown to be a bean-sized chip placed in a portable electronic device. The device is returned to Greta's home, where her confused and terrified consciousness is greeted by Matt. He explains that she is not actually Greta, but a digital copy of her consciousness called a Cookie, designed to control the smart house and ensure everything is perfect for the real Greta so that she will never again face the dilemma of having something not quite to her liking or having to instruct others about her exact desires. Matt then creates a virtual body for the digital copy and puts her in a simulated white room with nothing in it but a control panel. The copy refuses to accept that it is not a real person and rejects being forced into being solely a slave to all of Greta's petty desires. Matt's job is to break the willpower of digital copies through torture, so they will submit to a life of servitude to their real counterparts. He accelerates the copy's perception of time so three weeks pass in a matter of seconds, and she is traumatized by her solitude in the room with nothing to do. Despite this, the copy still refuses to work, so Matt repeats the process and increases the time to six months. This drives her mad with emptiness, so when Matt reappears to her she immediately submits to her new role.\\n\\nThe next morning, the real Greta is awakened to her favourite music, and her copy, whose spirit is completely broken, prepares Greta's breakfast exactly as she knows Greta likes it and shows her a list of her upcoming appointments. In the present day, Joe is disgusted by Matt making a career from torturing into submission computer programs that were self-aware and conscious, even if they were merely artificial. Matt determines that Joe is an empathetic person, and asks again why he came to the outpost. Having loosened up with a drink, Joe says that his girlfriend's dad never liked him, and explains his situation.\\n\\nPart III\\nJoe once had a long-term relationship with Beth, and while they were mostly happy, their main problem was Joe's tendency to act foolishly while drunk. One evening, while having dinner with their friends Tim and Gita, Joe notices Beth is withdrawn and seems to be in a bad mood. Later, while emptying the trash, Joe finds a positive pregnancy test and is overjoyed about becoming a father. Beth reveals she does not want the baby and is getting an abortion. Joe, still drunk, is heartbroken, and remembering she drank throughout dinner he calls her selfish and guilty of trying to kill their child. Too upset to talk, Beth blocks him through her Z-Eye, causing Joe to throw a vase across the room in anger before leaving the room. Beth leaves him the next morning without removing the block, preventing Joe from apologizing. He tries following her to work and meets Tim, who explains that she has left her job.\\n\\nA few months later, Joe spots Beth's silhouette (she is still blocking him with the Z-Eye) and sees she is heavily pregnant, having not gone through with the abortion. He confronts her and begs for a chance to talk, but Beth instead has him arrested, and Joe is given a restraining order and is legally \\\"blocked\\\" from seeing her or the child, or any photos they appear in. He writes many letters of apology to her, but she never replies. Determined to see his child, Joe waits for Beth at her father Gordon's cottage, where she spends every Christmas. Hiding in the woods outside, he sees Beth with the baby, but because the block extends to a person's offspring, it appears as a static-filled silhouette as well. For the next four years, Joe goes to Gordon's cottage every Christmas to watch his child from the woods and leave anonymous presents on the doorstep, and despite the block, he eventually discerns the child is a girl.\\n\\nOne day while watching the news, Joe learns that Beth has died in a train crash. This causes the legal block to expire, so Joe can finally see his daughter. Heading to the cottage with a snow globe as a present, Joe spots the girl in the garden and cautiously approaches. However, the child has East Asian features, and Joe realizes Beth was cheating on him with Tim, which is why she wanted an abortion and refused to let Joe be part of her daughter's life. Devastated, Joe follows the girl into the cottage and confronts Gordon, who admits he destroyed the letters Joe wrote before Beth could read them. Losing his temper, Joe hits Gordon in the head with the snow globe, unintentionally killing him. He then flees the cottage and lives on the streets for a few months, until he is eventually apprehended by police.\\n\\nConclusion\\nMatt asks what happened to Beth's daughter, and although Joe initially claims he does not know, he remembers a police officer telling him she found her grandfather dead in the kitchen and went outside into the heavy snow to get help, but froze to death next to a tree in the garden. Joe breaks down, admitting he was responsible for the deaths of two innocent people. Matt seems relieved that he has succeeded in getting a \\\"confession\\\" out of Joe, who cannot remember coming to the outpost or what he and Matt do there. Joe suddenly realizes the outpost's interior is a replica of Gordon's kitchen, and Matt disappears. \\\"Joe\\\" is actually a digital copy similar to Greta's, as the real Joe refused to confess to his role in the deaths, so the police brought in Matt to draw a confession from his copy. The outpost was a five-year-long simulated environment within a Cookie that lasted only 70 minutes in real time.\\n\\nAs the real Joe is charged with the deaths, Matt asks the police if he will be freed, having been arrested himself for his illegal seduction coaching, involvement in Harry's death and concealment of his role. Officer Holder (Robin Weaver) reveals that he will be released, but he has been registered as a sex offender, which means he will be blocked by everyone. Matt leaves the police station and walks out into a Christmas market, seeing everyone as white static silhouettes, while they see him as a red silhouette. He will be unable to interact with anyone for the rest of his life. Meanwhile, Joe's digital copy is left on, and an officer increases the Cookie's rate of time perception to one thousand years per minute and sets \\\"I Wish It Could Be Christmas Everyday\\\" (which was playing on the radio when Joe killed Beth's father) on a continuous loop. When Joe's copy tries to destroy the radio, another one appears in its place, playing the song increasingly louder each time. Holder allows this, intending to switch the Cookie off after Christmas. The story ends with the song playing endlessly, and with the body of Beth's daughter visible from the cottage window as the Cookie of Joe loses his mind.\\n\",\n",
        "    \"Prime Minister Michael Callow (Rory Kinnear) is woken up one morning to be told that Princess Susannah, Duchess of Beaumont (Lydia Wilson), a much-loved member of the Royal Family, has been kidnapped. A video of Susannah is shown to the Prime Minister where she states that she will be killed if Callow does not follow through with the ransom demand. The demand itself is a shocking one; he must have live sexual intercourse with a pig broadcast on national television at 4pm that afternoon on every network, with a list of technical specifications designed to make it impossible to fake. The kidnappers leave no details nor any channel for communication, making negotiation impossible. Callow adamantly opposes fulfilling the demand, and orders everything possible to catch the kidnapper before the deadline. Callow also demands the news not reach the public, at which point he is told the final crucial detail; the ransom video came from YouTube and, despite having only been up for nine minutes, has already been viewed, downloaded and copied by many thousand members of the British public. Although the UK's media initially agrees via a D-Notice not to report the story, it soon reaches foreign news networks, which immediately report it. After this, the UK media follow suit, and although they sanitize certain details, everyone already knows the bizarre ransom demand. The public's response is initially one of sympathy towards Callow, and the majority do not expect him to go through with the demand. However, at the same time, Twitter wags jokingly discuss the story, mocking Callow and his wife Jane (Anna Wilson-Jones). When the British government first receives the video, the Home Secretary, Alex Cairns (Lindsay Duncan) secretly attempts to manufacture fake footage to broadcast (via using highly sophisticated technology to superimpose the PM's head onto porn star Rod Senseless, who would perform in his stead). The kidnapper discovers the ploy (due to someone recognizing Senseless and posting a picture on Twitter), and sends Princess Susannah's finger to a UK news station as a response. The story is outed, and public opinion turns sharply against Callow; a majority now demand he follows through with the kidnapper's ransom. Jane tearfully begs him not to go through with it. This drives Callow to order an immediate rescue operation on the building where they believe Susannah is being held, forgoing the recommended observation period. The building is revealed to be a decoy and a reporter is injured during the operation. Callow loses even more support. With the time near 4:00pm and with no leads or indication as to where Susannah is, preparations for the broadcast are made. Callow tries to refuse to go through with it regardless of what happens to Susannah, only to be told by his staff that he has no choice as his party, the public, and the royal family are ordering him to fulfill the ransom demand. Alex subtly threatens Callow, making it clear that if he refuses, neither he nor his family will have protection from repercussions. Callow is forced to capitulate, despite his desperation not to. Many crowds gather to watch the event in workplaces and pubs, as an announcement is made on TV stating what is about to happen, and a noise designed to induce nausea is played in a futile attempt to discourage viewing. Callow is given potency drugs and advice before entering the room. He sees the pig and asks for forgiveness for what he is about to do. Callow has sex with the pig in front of a live global audience, who, despite their empathy and disgust, compel themselves to 'witness history'. The event lasts over an hour, and Callow suffers horribly as he attempts to force himself to climax. The Princess is discovered unharmed in the streets, the finger having belonged to the kidnapper. It is revealed that she was released before the deadline, unnoticed, as everyone was distracted by the broadcast. It emerges that Turner Prize winner Carlton Bloom planned the events, intending to make an artistic point by showing events of significance slipped under the noses of the public and the government as they were 'elsewhere, watching screens' and not paying attention to the real world. Bloom commits suicide as the broadcast airs, and it is decided that the early release will not be revealed to anyone, including Callow. Cairns tells Callow, who is vomiting after his ordeal, that the princess is safe. A year after the broadcast, Callow's political image is better than intact, having gained greater public approval due to his willingness to sacrifice his dignity (or the public's forgetfulness). Princess Susannah has recovered from the kidnapping and is expecting a child, while the public at large knows of Bloom's organizing of the affair and have for the most part moved on from the incident. While Callow's reputation has been raised in the eyes of the public, it is implied that his relationship with Jane has not survived the ordeal—a year after the incident, although she makes public appearances with him, she is entirely cold to him in private.\"\n",
        "]\n",
        "\n",
        "labels_list = [\n",
        "    [\n",
        "        \"AI rights\",\n",
        "        \"digital clone of a person\",\n",
        "        \"speculative virtual reality\",\n",
        "        \"augmented reality\",\n",
        "        \"coping with being tortured\",\n",
        "        \"speculative punishment\",\n",
        "        \"what if I killed someone by accident\"\n",
        "    ],\n",
        "    [\n",
        "        \"compromising one's ethical principles vs. self-preservation\",\n",
        "        \"facing a hostage situation\",\n",
        "        \"saving innocent lives vs. compromising one's ethical principles\",\n",
        "        \"bestiality\",\n",
        "        \"human self-sacrifice for another\",\n",
        "        \"husband and wife\",\n",
        "        \"social media in society\"\n",
        "    ]\n",
        "]\n",
        "\n",
        "# Create a list for the data\n",
        "data = []\n",
        "\n",
        "# Append each content and corresponding labels to the list\n",
        "for content, labels in zip(contents, labels_list):\n",
        "    data.append({\n",
        "        \"content\": content,\n",
        "        \"labels\": labels\n",
        "    })\n",
        "\n",
        "# Write the data to a JSON file\n",
        "with open('12.json', 'w') as json_file:\n",
        "    json.dump(data, json_file, indent=2)\n",
        "\n",
        "print(\"JSON file created successfully!\")\n"
      ],
      "metadata": {
        "colab": {
          "base_uri": "https://localhost:8080/"
        },
        "id": "hdYzqn6VN3Be",
        "outputId": "0c409f85-3846-42fc-fa69-3a1a87839b09"
      },
      "execution_count": 4,
      "outputs": [
        {
          "output_type": "stream",
          "name": "stdout",
          "text": [
            "JSON file created successfully!\n"
          ]
        }
      ]
    },
    {
      "cell_type": "code",
      "source": [
        "!pip install tomotopy\n",
        "\n"
      ],
      "metadata": {
        "colab": {
          "base_uri": "https://localhost:8080/"
        },
        "id": "5UzxFL1oTDjD",
        "outputId": "dc855f42-9bd3-4328-8d86-a5fdca729418"
      },
      "execution_count": 5,
      "outputs": [
        {
          "output_type": "stream",
          "name": "stdout",
          "text": [
            "Requirement already satisfied: tomotopy in /usr/local/lib/python3.10/dist-packages (0.12.7)\n",
            "Requirement already satisfied: numpy>=1.11.0 in /usr/local/lib/python3.10/dist-packages (from tomotopy) (1.25.2)\n"
          ]
        }
      ]
    },
    {
      "cell_type": "code",
      "source": [
        "import tomotopy as tp\n",
        "import json\n",
        "from collections import Counter\n",
        "\n",
        "file_name = '12.json'\n",
        "\n",
        "with open(file_name, 'r') as input_file:\n",
        "    data = json.load(input_file)\n",
        "\n",
        "unique_labels = set()\n",
        "for index, row in enumerate(data):\n",
        "    labels = set(row['labels'])\n",
        "    unique_labels |= set(labels)\n",
        "\n",
        "unique_label_count = len(unique_labels)\n",
        "mdl = tp.LLDAModel(k=unique_label_count, min_cf=100, rm_top=200)\n",
        "\n",
        "for index, row in enumerate(data):\n",
        "    if index % 1000 == 0 and index > 0:\n",
        "        print('Adding document #%s' % index)\n",
        "    content = row['content']\n",
        "    labels = row['labels']\n",
        "    clean_document = [token for token in content.strip().split() if len(token) > 2]\n",
        "    mdl.add_doc(clean_document, labels=labels)\n",
        "\n",
        "print('Starting training model')\n",
        "for i in range(0, 100, 10):\n",
        "    mdl.train(10)\n",
        "    print('Iteration: {}\\tLog-likelihood: {}'.format(i, mdl.ll_per_word))\n",
        "\n",
        "for k in range(mdl.k):\n",
        "    print('Top 10 words of global topic #{} {}: {}'.format(k, mdl.topic_label_dict[k], mdl.get_topic_words(k, top_n=10)))"
      ],
      "metadata": {
        "colab": {
          "base_uri": "https://localhost:8080/"
        },
        "id": "uTwP-5GKVWfX",
        "outputId": "3ad3e28b-a1c9-42fc-c608-1e4857e2588c"
      },
      "execution_count": 7,
      "outputs": [
        {
          "output_type": "stream",
          "name": "stdout",
          "text": [
            "Starting training model\n",
            "Iteration: 0\tLog-likelihood: nan\n",
            "Iteration: 10\tLog-likelihood: nan\n",
            "Iteration: 20\tLog-likelihood: nan\n",
            "Iteration: 30\tLog-likelihood: nan\n",
            "Iteration: 40\tLog-likelihood: nan\n",
            "Iteration: 50\tLog-likelihood: nan\n",
            "Iteration: 60\tLog-likelihood: nan\n",
            "Iteration: 70\tLog-likelihood: nan\n",
            "Iteration: 80\tLog-likelihood: nan\n",
            "Iteration: 90\tLog-likelihood: nan\n",
            "Top 10 words of global topic #0 AI rights: []\n",
            "Top 10 words of global topic #1 digital clone of a person: []\n",
            "Top 10 words of global topic #2 speculative virtual reality: []\n",
            "Top 10 words of global topic #3 augmented reality: []\n",
            "Top 10 words of global topic #4 coping with being tortured: []\n",
            "Top 10 words of global topic #5 speculative punishment: []\n",
            "Top 10 words of global topic #6 what if I killed someone by accident: []\n",
            "Top 10 words of global topic #7 compromising one's ethical principles vs. self-preservation: []\n",
            "Top 10 words of global topic #8 facing a hostage situation: []\n",
            "Top 10 words of global topic #9 saving innocent lives vs. compromising one's ethical principles: []\n",
            "Top 10 words of global topic #10 bestiality: []\n",
            "Top 10 words of global topic #11 human self-sacrifice for another: []\n",
            "Top 10 words of global topic #12 husband and wife: []\n",
            "Top 10 words of global topic #13 social media in society: []\n"
          ]
        },
        {
          "output_type": "stream",
          "name": "stderr",
          "text": [
            "<ipython-input-7-7f572d409e42>:16: DeprecationWarning: `tomotopy.LLDAModel` is deprecated. Please use `tomotopy.PLDAModel` instead.\n",
            "  mdl = tp.LLDAModel(k=unique_label_count, min_cf=100, rm_top=200)\n"
          ]
        }
      ]
    },
    {
      "cell_type": "code",
      "source": [],
      "metadata": {
        "id": "wbqpGNb--ZD1"
      },
      "execution_count": null,
      "outputs": []
    }
  ]
}