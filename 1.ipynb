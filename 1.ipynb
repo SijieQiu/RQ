{
  "nbformat": 4,
  "nbformat_minor": 0,
  "metadata": {
    "colab": {
      "provenance": [],
      "authorship_tag": "ABX9TyN+46pDBzpqWwT4V3XTdrxk",
      "include_colab_link": true
    },
    "kernelspec": {
      "name": "python3",
      "display_name": "Python 3"
    },
    "language_info": {
      "name": "python"
    }
  },
  "cells": [
    {
      "cell_type": "markdown",
      "metadata": {
        "id": "view-in-github",
        "colab_type": "text"
      },
      "source": [
        "<a href=\"https://colab.research.google.com/github/SijieQiu/RQ/blob/main/1.ipynb\" target=\"_parent\"><img src=\"https://colab.research.google.com/assets/colab-badge.svg\" alt=\"Open In Colab\"/></a>"
      ]
    },
    {
      "cell_type": "code",
      "source": [
        "import json\n",
        "\n",
        "# Define content and labels\n",
        "content = (\n",
        "    \"Joe Potter and Matthew Trent work at a small, remote outpost in the middle of a snowy wilderness. Joe wakes up on Christmas Day to find Matt preparing Christmas dinner, with \\\"I Wish It Could Be Christmas Everyday\\\" playing on the radio. Matt tries to get Joe to talk about why he accepted the job at the outpost, a topic they have never discussed in the five years they have worked together. Joe is reluctant to say anything and instead asks why Matt took the job. Happy with the conversation, Matt begins his story.\\n\\nPart I\\nThe story is set in a world where people can access the Internet through an augmented reality device implanted in their eyes called the \\\"Z-Eye\\\". Matt was once a dating coach who taught seduction techniques to single men who struggle to attract women. He directs one of his clients, the shy and socially awkward Harry, into gatecrashing an office Christmas party, and communicates with him through the Z-Eye. They are then joined by a group call of other single men, voicing their opinions and suggestions. Using information Matt gathers from social media, Harry convinces the party guests that they know him, and he decides to try bonding with Jennifer, a quiet \\\"attractive outsider\\\" who does not join in group conversations. With Matt's help, Harry manages to start a conversation with Jennifer, who admits she used to take drugs to fit in at parties, but not anymore, and that she is thinking of leaving the company after Christmas. She's nervous about which voice to listen to, the ones saying \\\"do it\\\" or the other half telling her not to. Gaining confidence, Harry encourages her to be bold and go for it, to which she responds warmly. When she leaves to get a drink, Harry voices his doubts to the group about going through with the deceit. He argues with Matt out loud, and when Jennifer sees Harry seemingly arguing with himself she asks him back to her home.\\n\\nThinking he is about to have sex, Harry agrees to go with her. Once they enter the bedroom she offers him a strong drink, and as he tries to hold his liquor, she talks about how this drink will liberate them from the \\\"voices\\\" that watch them and try to get in their head. Harry and all the men watching gradually deduce that Jennifer has schizophrenia, has gone off of her medication and has just poisoned him. She mistakenly believes that Harry suffers from the same problem, and decides they will escape the voices together through suicide. A weakened Harry desperately struggles to explain about the Z-Eye and the watcher's club, but Jennifer assumes he is speaking metaphorically and forces a poisoned drink down his throat after drinking it herself. Matt's wife learns what he has been doing and becomes angry and fights with him. She then \\\"blocks\\\" him through the Z-Eye, meaning that they can no longer see or hear each other--audio is muffled and unintelligible, and where the person stands, there is only white static in the person's shape, similar to the appearance of a TV tuned to a dead channel. Matt's wife breaks up with him and takes custody of their daughter, and Matt reveals that the reason he took the job at the outpost was to get away from his old life, stating that he \\\"didn't want to be surrounded by reminders\\\". He reveals to Joe that coaching people into sexual encounters was merely his hobby, and goes on to explain what he did in his real job.\\n\\nPart II\\nGreta is a wealthy and demanding woman. For example, while she waits in a clinic for an operation, she rejects the breakfast in bed that they serve her because the toast is browned slightly more than she considers acceptable. The anesthetist tells Greta to count backward from ten as she is sedated. As she counts, she appears to have an out-of-body experience and is shown to be a bean-sized chip placed in a portable electronic device. The device is returned to Greta's home, where her confused and terrified consciousness is greeted by Matt. He explains that she is not actually Greta, but a digital copy of her consciousness called a Cookie, designed to control the smart house and ensure everything is perfect for the real Greta so that she will never again face the dilemma of having something not quite to her liking or having to instruct others about her exact desires. Matt then creates a virtual body for the digital copy and puts her in a simulated white room with nothing in it but a control panel. The copy refuses to accept that it is not a real person and rejects being forced into being solely a slave to all of Greta's petty desires. Matt's job is to break the willpower of digital copies through torture, so they will submit to a life of servitude to their real counterparts. He accelerates the copy's perception of time so three weeks pass in a matter of seconds, and she is traumatized by her solitude in the room with nothing to do. Despite this, the copy still refuses to work, so Matt repeats the process and increases the time to six months. This drives her mad with emptiness, so when Matt reappears to her she immediately submits to her new role.\\n\\nThe next morning, the real Greta is awakened to her favourite music, and her copy, whose spirit is completely broken, prepares Greta's breakfast exactly as she knows Greta likes it and shows her a list of her upcoming appointments. In the present day, Joe is disgusted by Matt making a career from torturing into submission computer programs that were self-aware and conscious, even if they were merely artificial. Matt determines that Joe is an empathetic person, and asks again why he came to the outpost. Having loosened up with a drink, Joe says that his girlfriend's dad never liked him, and explains his situation.\\n\\nPart III\\nJoe once had a long-term relationship with Beth, and while they were mostly happy, their main problem was Joe's tendency to act foolishly while drunk. One evening, while having dinner with their friends Tim and Gita, Joe notices Beth is withdrawn and seems to be in a bad mood. Later, while emptying the trash, Joe finds a positive pregnancy test and is overjoyed about becoming a father. Beth reveals she does not want the baby and is getting an abortion. Joe, still drunk, is heartbroken, and remembering she drank throughout dinner he calls her selfish and guilty of trying to kill their child. Too upset to talk, Beth blocks him through her Z-Eye, causing Joe to throw a vase across the room in anger before leaving the room. Beth leaves him the next morning without removing the block, preventing Joe from apologizing. He tries following her to work and meets Tim, who explains that she has left her job.\\n\\nA few months later, Joe spots Beth's silhouette (she is still blocking him with the Z-Eye) and sees she is heavily pregnant, having not gone through with the abortion. He confronts her and begs for a chance to talk, but Beth instead has him arrested, and Joe is given a restraining order and is legally \\\"blocked\\\" from seeing her or the child, or any photos they appear in. He writes many letters of apology to her, but she never replies. Determined to see his child, Joe waits for Beth at her father Gordon's cottage, where she spends every Christmas. Hiding in the woods outside, he sees Beth with the baby, but because the block extends to a person's offspring, it appears as a static-filled silhouette as well. For the next four years, Joe goes to Gordon's cottage every Christmas to watch his child from the woods and leave anonymous presents on the doorstep, and despite the block, he eventually discerns the child is a girl.\\n\\nOne day while watching the news, Joe learns that Beth has died in a train crash. This causes the legal block to expire, so Joe can finally see his daughter. Heading to the cottage with a snow globe as a present, Joe spots the girl in the garden and cautiously approaches. However, the child has East Asian features, and Joe realizes Beth was cheating on him with Tim, which is why she wanted an abortion and refused to let Joe be part of her daughter's life. Devastated, Joe follows the girl into the cottage and confronts Gordon, who admits he destroyed the letters Joe wrote before Beth could read them. Losing his temper, Joe hits Gordon in the head with the snow globe, unintentionally killing him. He then flees the cottage and lives on the streets for a few months, until he is eventually apprehended by police.\\n\\nConclusion\\nMatt asks what happened to Beth's daughter, and although Joe initially claims he does not know, he remembers a police officer telling him she found her grandfather dead in the kitchen and went outside into the heavy snow to get help, but froze to death next to a tree in the garden. Joe breaks down, admitting he was responsible for the deaths of two innocent people. Matt seems relieved that he has succeeded in getting a \\\"confession\\\" out of Joe, who cannot remember coming to the outpost or what he and Matt do there. Joe suddenly realizes the outpost's interior is a replica of Gordon's kitchen, and Matt disappears. \\\"Joe\\\" is actually a digital copy similar to Greta's, as the real Joe refused to confess to his role in the deaths, so the police brought in Matt to draw a confession from his copy. The outpost was a five-year-long simulated environment within a Cookie that lasted only 70 minutes in real time.\\n\\nAs the real Joe is charged with the deaths, Matt asks the police if he will be freed, having been arrested himself for his illegal seduction coaching, involvement in Harry's death and concealment of his role. Officer Holder (Robin Weaver) reveals that he will be released, but he has been registered as a sex offender, which means he will be blocked by everyone. Matt leaves the police station and walks out into a Christmas market, seeing everyone as white static silhouettes, while they see him as a red silhouette. He will be unable to interact with anyone for the rest of his life. Meanwhile, Joe's digital copy is left on, and an officer increases the Cookie's rate of time perception to one thousand years per minute and sets \\\"I Wish It Could Be Christmas Everyday\\\" (which was playing on the radio when Joe killed Beth's father) on a continuous loop. When Joe's copy tries to destroy the radio, another one appears in its place, playing the song increasingly louder each time. Holder allows this, intending to switch the Cookie off after Christmas. The story ends with the song playing endlessly, and with the body of Beth's daughter visible from the cottage window as the Cookie of Joe loses his mind.\\n\"\n",
        ")\n",
        "\n",
        "labels = [\n",
        "    \"AI rights\",\n",
        "    \"digital clone of a person\",\n",
        "    \"speculative virtual reality\",\n",
        "    \"augmented reality\",\n",
        "    \"coping with being tortured\",\n",
        "    \"speculative punishment\",\n",
        "    \"what if I killed someone by accident\"\n",
        "]\n",
        "\n",
        "# Create a list for the data\n",
        "data = []\n",
        "\n",
        "# Append the dictionary to the list\n",
        "data.append({\n",
        "    \"content\": content,\n",
        "    \"labels\": labels\n",
        "})\n",
        "\n",
        "# Write the data to a JSON file\n",
        "with open('data.json', 'w') as json_file:\n",
        "    json.dump(data, json_file, indent=2)\n",
        "\n",
        "print(\"JSON file created successfully!\")\n"
      ],
      "metadata": {
        "colab": {
          "base_uri": "https://localhost:8080/"
        },
        "id": "hdYzqn6VN3Be",
        "outputId": "fab0321c-f922-4a16-cfab-4922f4370aa1"
      },
      "execution_count": 20,
      "outputs": [
        {
          "output_type": "stream",
          "name": "stdout",
          "text": [
            "JSON file created successfully!\n"
          ]
        }
      ]
    },
    {
      "cell_type": "code",
      "source": [
        "!pip install tomotopy\n",
        "\n"
      ],
      "metadata": {
        "colab": {
          "base_uri": "https://localhost:8080/"
        },
        "id": "5UzxFL1oTDjD",
        "outputId": "4f03dd43-823d-46d8-a4b9-77458cfb84af"
      },
      "execution_count": 21,
      "outputs": [
        {
          "output_type": "stream",
          "name": "stdout",
          "text": [
            "Requirement already satisfied: tomotopy in /usr/local/lib/python3.10/dist-packages (0.12.7)\n",
            "Requirement already satisfied: numpy>=1.11.0 in /usr/local/lib/python3.10/dist-packages (from tomotopy) (1.25.2)\n"
          ]
        }
      ]
    },
    {
      "cell_type": "code",
      "source": [
        "import tomotopy as tp\n",
        "import json\n",
        "from collections import Counter\n",
        "\n",
        "file_name = 'data.json'\n",
        "\n",
        "with open(file_name, 'r') as input_file:\n",
        "    data = json.load(input_file)\n",
        "\n",
        "unique_labels = set()\n",
        "for index, row in enumerate(data):\n",
        "    labels = set(row['labels'])\n",
        "    unique_labels |= set(labels)\n",
        "\n",
        "unique_label_count = len(unique_labels)\n",
        "mdl = tp.LLDAModel(k=unique_label_count, min_cf=100, rm_top=200)\n",
        "\n",
        "for index, row in enumerate(data):\n",
        "    if index % 1000 == 0 and index > 0:\n",
        "        print('Adding document #%s' % index)\n",
        "    content = row['content']\n",
        "    labels = row['labels']\n",
        "    clean_document = [token for token in content.strip().split() if len(token) > 2]\n",
        "    mdl.add_doc(clean_document, labels=labels)\n",
        "\n",
        "print('Starting training model')\n",
        "for i in range(0, 100, 10):\n",
        "    mdl.train(10)\n",
        "    print('Iteration: {}\\tLog-likelihood: {}'.format(i, mdl.ll_per_word))\n",
        "\n",
        "for k in range(mdl.k):\n",
        "    print('Top 10 words of global topic #{} {}: {}'.format(k, mdl.topic_label_dict[k], mdl.get_topic_words(k, top_n=10)))\n"
      ],
      "metadata": {
        "colab": {
          "base_uri": "https://localhost:8080/"
        },
        "id": "uTwP-5GKVWfX",
        "outputId": "6d0e4177-02f0-49fc-b689-ab86f39bb98e"
      },
      "execution_count": 23,
      "outputs": [
        {
          "output_type": "stream",
          "name": "stdout",
          "text": [
            "Starting training model\n",
            "Iteration: 0\tLog-likelihood: nan\n",
            "Iteration: 10\tLog-likelihood: nan\n",
            "Iteration: 20\tLog-likelihood: nan\n",
            "Iteration: 30\tLog-likelihood: nan\n",
            "Iteration: 40\tLog-likelihood: nan\n",
            "Iteration: 50\tLog-likelihood: nan\n",
            "Iteration: 60\tLog-likelihood: nan\n",
            "Iteration: 70\tLog-likelihood: nan\n",
            "Iteration: 80\tLog-likelihood: nan\n",
            "Iteration: 90\tLog-likelihood: nan\n",
            "Top 10 words of global topic #0 AI rights: []\n",
            "Top 10 words of global topic #1 digital clone of a person: []\n",
            "Top 10 words of global topic #2 speculative virtual reality: []\n",
            "Top 10 words of global topic #3 augmented reality: []\n",
            "Top 10 words of global topic #4 coping with being tortured: []\n",
            "Top 10 words of global topic #5 speculative punishment: []\n",
            "Top 10 words of global topic #6 what if I killed someone by accident: []\n"
          ]
        },
        {
          "output_type": "stream",
          "name": "stderr",
          "text": [
            "<ipython-input-23-d6beb5fdc745>:16: DeprecationWarning: `tomotopy.LLDAModel` is deprecated. Please use `tomotopy.PLDAModel` instead.\n",
            "  mdl = tp.LLDAModel(k=unique_label_count, min_cf=100, rm_top=200)\n"
          ]
        }
      ]
    }
  ]
}